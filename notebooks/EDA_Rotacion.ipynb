{
 "cells": [
  {
   "cell_type": "markdown",
   "metadata": {},
   "source": [
    "# Análisis Exploratorio de Datos (EDA) - Rotación de Personal\n",
    "\n",
    "## Objetivo\n",
    "Realizar un análisis exploratorio completo de los datos de plantilla laboral y percepciones gerenciales sobre rotación de personal, identificando patrones, tendencias y generando insights accionables para la gestión estratégica de talento.\n",
    "\n",
    "## Datasets\n",
    "1. **GCP_Core_Plantilla_ActivaVSAutorizada_REP_8_Sheet1.csv** - Datos administrativos de empleados\n",
    "2. **Sondeo - Perspectiva del Gerente sobre Rotación (Respuestas).xlsx** - Percepciones gerenciales"
   ]
  },
  {
   "cell_type": "markdown",
   "metadata": {},
   "source": [
    "## 1. Configuración del Entorno y Carga de Librerías"
   ]
  },
  {
   "cell_type": "code",
   "execution_count": null,
   "metadata": {},
   "outputs": [
    {
     "ename": "",
     "evalue": "",
     "output_type": "error",
     "traceback": [
      "\u001b[1;31mRunning cells with 'rotacion-encuestas (Python 3.11.14)' requires the ipykernel package.\n",
      "\u001b[1;31mInstall 'ipykernel' into the Python environment. \n",
      "\u001b[1;31mCommand: '/home/eduardo/Desktop/rotacion/.venv/bin/python -m pip install ipykernel -U --force-reinstall'"
     ]
    }
   ],
   "source": [
    "# Librerías para manipulación de datos\n",
    "import pandas as pd\n",
    "import numpy as np\n",
    "from datetime import datetime\n",
    "\n",
    "# Librerías para visualización\n",
    "import matplotlib.pyplot as plt\n",
    "import seaborn as sns\n",
    "\n",
    "# Configuración de visualización\n",
    "plt.style.use('seaborn-v0_8-darkgrid')\n",
    "sns.set_palette(\"husl\")\n",
    "%matplotlib inline\n",
    "\n",
    "# Configuración de pandas\n",
    "pd.set_option('display.max_columns', None)\n",
    "pd.set_option('display.max_rows', 100)\n",
    "pd.set_option('display.float_format', '{:.2f}'.format)\n",
    "\n",
    "# Warnings\n",
    "import warnings\n",
    "warnings.filterwarnings('ignore')\n",
    "\n",
    "print(\"Librerías cargadas exitosamente\")"
   ]
  },
  {
   "cell_type": "markdown",
   "metadata": {},
   "source": [
    "## 2. Carga y Exploración Inicial de Datos"
   ]
  },
  {
   "cell_type": "markdown",
   "metadata": {},
   "source": [
    "### 2.1 Dataset de Plantilla (Datos Administrativos)"
   ]
  },
  {
   "cell_type": "code",
   "execution_count": null,
   "metadata": {},
   "outputs": [],
   "source": [
    "# Cargar dataset de plantilla\n",
    "df_plantilla = pd.read_csv('../data/GCP_Core_Plantilla_ActivaVSAutorizada_REP_8_Sheet1.csv', \n",
    "                           low_memory=False)\n",
    "\n",
    "print(f\"Dimensiones del dataset: {df_plantilla.shape}\")\n",
    "print(f\"Filas: {df_plantilla.shape[0]:,}\")\n",
    "print(f\"Columnas: {df_plantilla.shape[1]}\")"
   ]
  },
  {
   "cell_type": "code",
   "execution_count": null,
   "metadata": {},
   "outputs": [],
   "source": [
    "# Primeras filas\n",
    "df_plantilla.head(10)"
   ]
  },
  {
   "cell_type": "code",
   "execution_count": null,
   "metadata": {},
   "outputs": [],
   "source": [
    "# Información del dataset\n",
    "df_plantilla.info()"
   ]
  },
  {
   "cell_type": "code",
   "execution_count": null,
   "metadata": {},
   "outputs": [],
   "source": [
    "# Nombres de columnas\n",
    "print(\"Columnas disponibles:\")\n",
    "for i, col in enumerate(df_plantilla.columns, 1):\n",
    "    print(f\"{i:2}. {col}\")"
   ]
  },
  {
   "cell_type": "markdown",
   "metadata": {},
   "source": [
    "### 2.2 Dataset de Encuesta Gerencial"
   ]
  },
  {
   "cell_type": "code",
   "execution_count": null,
   "metadata": {},
   "outputs": [],
   "source": [
    "# Cargar dataset de encuesta\n",
    "df_encuesta = pd.read_excel('../data/Sondeo  -   Perspectiva del Gerente sobre Rotación  (Respuestas).xlsx')\n",
    "\n",
    "print(f\"Dimensiones del dataset: {df_encuesta.shape}\")\n",
    "print(f\"Filas: {df_encuesta.shape[0]:,}\")\n",
    "print(f\"Columnas: {df_encuesta.shape[1]}\")"
   ]
  },
  {
   "cell_type": "code",
   "execution_count": null,
   "metadata": {},
   "outputs": [],
   "source": [
    "# Primeras filas\n",
    "df_encuesta.head()"
   ]
  },
  {
   "cell_type": "code",
   "execution_count": null,
   "metadata": {},
   "outputs": [],
   "source": [
    "# Información del dataset\n",
    "df_encuesta.info()"
   ]
  },
  {
   "cell_type": "code",
   "execution_count": null,
   "metadata": {},
   "outputs": [],
   "source": [
    "# Nombres de columnas de encuesta\n",
    "print(\"Columnas de encuesta:\")\n",
    "for i, col in enumerate(df_encuesta.columns, 1):\n",
    "    print(f\"{i:2}. {col}\")"
   ]
  },
  {
   "cell_type": "markdown",
   "metadata": {},
   "source": [
    "## 3. Calidad de Datos y Limpieza"
   ]
  },
  {
   "cell_type": "markdown",
   "metadata": {},
   "source": [
    "### 3.1 Análisis de Valores Faltantes - Plantilla"
   ]
  },
  {
   "cell_type": "code",
   "execution_count": null,
   "metadata": {},
   "outputs": [],
   "source": [
    "# Valores faltantes por columna\n",
    "missing_plantilla = pd.DataFrame({\n",
    "    'Columna': df_plantilla.columns,\n",
    "    'Valores_Faltantes': df_plantilla.isnull().sum(),\n",
    "    'Porcentaje': (df_plantilla.isnull().sum() / len(df_plantilla) * 100).round(2)\n",
    "}).sort_values('Porcentaje', ascending=False)\n",
    "\n",
    "missing_plantilla[missing_plantilla['Valores_Faltantes'] > 0]"
   ]
  },
  {
   "cell_type": "code",
   "execution_count": null,
   "metadata": {},
   "outputs": [],
   "source": [
    "# Visualización de valores faltantes\n",
    "missing_cols = missing_plantilla[missing_plantilla['Porcentaje'] > 0].head(20)\n",
    "\n",
    "if len(missing_cols) > 0:\n",
    "    plt.figure(figsize=(12, 6))\n",
    "    plt.barh(missing_cols['Columna'], missing_cols['Porcentaje'])\n",
    "    plt.xlabel('Porcentaje de Valores Faltantes (%)')\n",
    "    plt.title('Top 20 Columnas con Valores Faltantes - Dataset Plantilla')\n",
    "    plt.tight_layout()\n",
    "    plt.show()\n",
    "else:\n",
    "    print(\"No hay valores faltantes en el dataset de plantilla\")"
   ]
  },
  {
   "cell_type": "markdown",
   "metadata": {},
   "source": [
    "### 3.2 Análisis de Valores Faltantes - Encuesta"
   ]
  },
  {
   "cell_type": "code",
   "execution_count": null,
   "metadata": {},
   "outputs": [],
   "source": [
    "# Valores faltantes en encuesta\n",
    "missing_encuesta = pd.DataFrame({\n",
    "    'Columna': df_encuesta.columns,\n",
    "    'Valores_Faltantes': df_encuesta.isnull().sum(),\n",
    "    'Porcentaje': (df_encuesta.isnull().sum() / len(df_encuesta) * 100).round(2)\n",
    "}).sort_values('Porcentaje', ascending=False)\n",
    "\n",
    "missing_encuesta[missing_encuesta['Valores_Faltantes'] > 0]"
   ]
  },
  {
   "cell_type": "markdown",
   "metadata": {},
   "source": [
    "### 3.3 Análisis de Duplicados"
   ]
  },
  {
   "cell_type": "code",
   "execution_count": null,
   "metadata": {},
   "outputs": [],
   "source": [
    "# Duplicados en plantilla\n",
    "duplicados_plantilla = df_plantilla.duplicated().sum()\n",
    "print(f\"Registros duplicados en plantilla: {duplicados_plantilla:,}\")\n",
    "print(f\"Porcentaje de duplicados: {(duplicados_plantilla/len(df_plantilla)*100):.2f}%\")\n",
    "\n",
    "# Duplicados en encuesta\n",
    "duplicados_encuesta = df_encuesta.duplicated().sum()\n",
    "print(f\"\\nRegistros duplicados en encuesta: {duplicados_encuesta:,}\")\n",
    "print(f\"Porcentaje de duplicados: {(duplicados_encuesta/len(df_encuesta)*100):.2f}%\")"
   ]
  },
  {
   "cell_type": "markdown",
   "metadata": {},
   "source": [
    "### 3.4 Identificación de Tipos de Datos"
   ]
  },
  {
   "cell_type": "code",
   "execution_count": null,
   "metadata": {},
   "outputs": [],
   "source": [
    "# Tipos de datos en plantilla\n",
    "print(\"Distribución de tipos de datos - Plantilla:\")\n",
    "print(df_plantilla.dtypes.value_counts())\n",
    "\n",
    "print(\"\\nDistribución de tipos de datos - Encuesta:\")\n",
    "print(df_encuesta.dtypes.value_counts())"
   ]
  },
  {
   "cell_type": "markdown",
   "metadata": {},
   "source": [
    "## 4. Análisis Descriptivo"
   ]
  },
  {
   "cell_type": "markdown",
   "metadata": {},
   "source": [
    "### 4.1 Variables Categóricas - Plantilla"
   ]
  },
  {
   "cell_type": "code",
   "execution_count": null,
   "metadata": {},
   "outputs": [],
   "source": [
    "# Identificar columnas categóricas\n",
    "cat_cols_plantilla = df_plantilla.select_dtypes(include=['object']).columns.tolist()\n",
    "print(f\"Variables categóricas encontradas: {len(cat_cols_plantilla)}\")\n",
    "\n",
    "# Analizar cardinalidad\n",
    "cardinalidad = pd.DataFrame({\n",
    "    'Columna': cat_cols_plantilla,\n",
    "    'Valores_Unicos': [df_plantilla[col].nunique() for col in cat_cols_plantilla],\n",
    "    'Valores_Faltantes': [df_plantilla[col].isnull().sum() for col in cat_cols_plantilla]\n",
    "}).sort_values('Valores_Unicos', ascending=False)\n",
    "\n",
    "cardinalidad.head(20)"
   ]
  },
  {
   "cell_type": "code",
   "execution_count": null,
   "metadata": {},
   "outputs": [],
   "source": [
    "# Analizar variables categóricas clave (si existen columnas relevantes)\n",
    "# Buscar columnas de estatus, departamento, división, etc.\n",
    "cols_interes = [col for col in df_plantilla.columns \n",
    "                if any(keyword in col.lower() for keyword in \n",
    "                      ['status', 'estatus', 'estado', 'departamento', 'division', \n",
    "                       'puesto', 'cargo', 'area', 'region', 'ciudad'])]\n",
    "\n",
    "print(f\"Columnas de interés identificadas: {len(cols_interes)}\")\n",
    "for col in cols_interes[:10]:  # Mostrar primeras 10\n",
    "    print(f\"  - {col}\")"
   ]
  },
  {
   "cell_type": "markdown",
   "metadata": {},
   "source": [
    "### 4.2 Variables Numéricas - Plantilla"
   ]
  },
  {
   "cell_type": "code",
   "execution_count": null,
   "metadata": {},
   "outputs": [],
   "source": [
    "# Variables numéricas\n",
    "num_cols_plantilla = df_plantilla.select_dtypes(include=['int64', 'float64']).columns.tolist()\n",
    "print(f\"Variables numéricas encontradas: {len(num_cols_plantilla)}\")\n",
    "\n",
    "if len(num_cols_plantilla) > 0:\n",
    "    df_plantilla[num_cols_plantilla].describe().T"
   ]
  },
  {
   "cell_type": "markdown",
   "metadata": {},
   "source": [
    "### 4.3 Análisis de Fechas"
   ]
  },
  {
   "cell_type": "code",
   "execution_count": null,
   "metadata": {},
   "outputs": [],
   "source": [
    "# Identificar columnas de fecha\n",
    "date_cols = [col for col in df_plantilla.columns \n",
    "             if any(keyword in col.lower() for keyword in \n",
    "                   ['fecha', 'date', 'ingreso', 'salida', 'baja', 'alta'])]\n",
    "\n",
    "print(f\"Columnas de fecha identificadas: {len(date_cols)}\")\n",
    "for col in date_cols:\n",
    "    print(f\"  - {col}\")"
   ]
  },
  {
   "cell_type": "code",
   "execution_count": null,
   "metadata": {},
   "outputs": [],
   "source": [
    "# Convertir columnas de fecha si existen\n",
    "for col in date_cols:\n",
    "    try:\n",
    "        df_plantilla[col] = pd.to_datetime(df_plantilla[col], errors='coerce')\n",
    "        print(f\"✓ Convertida: {col}\")\n",
    "        print(f\"  Rango: {df_plantilla[col].min()} a {df_plantilla[col].max()}\")\n",
    "        print(f\"  Valores faltantes: {df_plantilla[col].isnull().sum():,}\\n\")\n",
    "    except Exception as e:\n",
    "        print(f\"✗ Error en {col}: {str(e)}\")"
   ]
  },
  {
   "cell_type": "markdown",
   "metadata": {},
   "source": [
    "## 5. Análisis Específico de Rotación"
   ]
  },
  {
   "cell_type": "markdown",
   "metadata": {},
   "source": [
    "### 5.1 Distribución de Estatus de Empleados"
   ]
  },
  {
   "cell_type": "code",
   "execution_count": null,
   "metadata": {},
   "outputs": [],
   "source": [
    "# Buscar columna de estatus\n",
    "status_cols = [col for col in df_plantilla.columns \n",
    "               if any(keyword in col.lower() for keyword in ['status', 'estatus', 'estado', 'activ'])]\n",
    "\n",
    "if len(status_cols) > 0:\n",
    "    print(f\"Columnas de estatus encontradas: {status_cols}\")\n",
    "    \n",
    "    # Analizar primera columna de estatus\n",
    "    status_col = status_cols[0]\n",
    "    print(f\"\\nDistribución de {status_col}:\")\n",
    "    print(df_plantilla[status_col].value_counts())\n",
    "    print(f\"\\nProporción:\")\n",
    "    print(df_plantilla[status_col].value_counts(normalize=True).round(4) * 100)\n",
    "    \n",
    "    # Visualización\n",
    "    fig, axes = plt.subplots(1, 2, figsize=(14, 5))\n",
    "    \n",
    "    # Gráfico de barras\n",
    "    df_plantilla[status_col].value_counts().plot(kind='bar', ax=axes[0])\n",
    "    axes[0].set_title(f'Distribución de {status_col}')\n",
    "    axes[0].set_ylabel('Frecuencia')\n",
    "    axes[0].tick_params(axis='x', rotation=45)\n",
    "    \n",
    "    # Gráfico de pastel\n",
    "    df_plantilla[status_col].value_counts().plot(kind='pie', ax=axes[1], autopct='%1.1f%%')\n",
    "    axes[1].set_title(f'Proporción de {status_col}')\n",
    "    axes[1].set_ylabel('')\n",
    "    \n",
    "    plt.tight_layout()\n",
    "    plt.show()\n",
    "else:\n",
    "    print(\"No se encontraron columnas de estatus\")"
   ]
  },
  {
   "cell_type": "markdown",
   "metadata": {},
   "source": [
    "### 5.2 Análisis Temporal de Rotación"
   ]
  },
  {
   "cell_type": "code",
   "execution_count": null,
   "metadata": {},
   "outputs": [],
   "source": [
    "# Buscar columnas de fecha de ingreso y salida\n",
    "fecha_ingreso_cols = [col for col in date_cols \n",
    "                      if any(keyword in col.lower() for keyword in ['ingreso', 'alta', 'inicio'])]\n",
    "fecha_salida_cols = [col for col in date_cols \n",
    "                     if any(keyword in col.lower() for keyword in ['salida', 'baja', 'fin', 'termino'])]\n",
    "\n",
    "print(f\"Columnas de fecha de ingreso: {fecha_ingreso_cols}\")\n",
    "print(f\"Columnas de fecha de salida: {fecha_salida_cols}\")"
   ]
  },
  {
   "cell_type": "code",
   "execution_count": null,
   "metadata": {},
   "outputs": [],
   "source": [
    "# Si existen fechas, calcular antigüedad\n",
    "if len(fecha_ingreso_cols) > 0:\n",
    "    fecha_ingreso_col = fecha_ingreso_cols[0]\n",
    "    \n",
    "    # Calcular antigüedad en días\n",
    "    fecha_ref = datetime.now()\n",
    "    if len(fecha_salida_cols) > 0:\n",
    "        fecha_salida_col = fecha_salida_cols[0]\n",
    "        # Para empleados inactivos, usar fecha de salida\n",
    "        df_plantilla['antiguedad_dias'] = np.where(\n",
    "            df_plantilla[fecha_salida_col].notna(),\n",
    "            (df_plantilla[fecha_salida_col] - df_plantilla[fecha_ingreso_col]).dt.days,\n",
    "            (fecha_ref - df_plantilla[fecha_ingreso_col]).dt.days\n",
    "        )\n",
    "    else:\n",
    "        df_plantilla['antiguedad_dias'] = (fecha_ref - df_plantilla[fecha_ingreso_col]).dt.days\n",
    "    \n",
    "    # Convertir a años\n",
    "    df_plantilla['antiguedad_anos'] = df_plantilla['antiguedad_dias'] / 365.25\n",
    "    \n",
    "    print(\"Estadísticas de antigüedad:\")\n",
    "    print(df_plantilla['antiguedad_anos'].describe())\n",
    "    \n",
    "    # Visualización\n",
    "    fig, axes = plt.subplots(1, 2, figsize=(14, 5))\n",
    "    \n",
    "    # Histograma\n",
    "    df_plantilla['antiguedad_anos'].hist(bins=50, ax=axes[0], edgecolor='black')\n",
    "    axes[0].set_xlabel('Antigüedad (años)')\n",
    "    axes[0].set_ylabel('Frecuencia')\n",
    "    axes[0].set_title('Distribución de Antigüedad')\n",
    "    axes[0].axvline(df_plantilla['antiguedad_anos'].median(), color='red', \n",
    "                    linestyle='--', label=f'Mediana: {df_plantilla[\"antiguedad_anos\"].median():.1f} años')\n",
    "    axes[0].legend()\n",
    "    \n",
    "    # Boxplot\n",
    "    df_plantilla.boxplot(column='antiguedad_anos', ax=axes[1])\n",
    "    axes[1].set_ylabel('Antigüedad (años)')\n",
    "    axes[1].set_title('Boxplot de Antigüedad')\n",
    "    \n",
    "    plt.tight_layout()\n",
    "    plt.show()"
   ]
  },
  {
   "cell_type": "markdown",
   "metadata": {},
   "source": [
    "### 5.3 Análisis por Dimensiones Organizacionales"
   ]
  },
  {
   "cell_type": "code",
   "execution_count": null,
   "metadata": {},
   "outputs": [],
   "source": [
    "# Buscar columnas organizacionales\n",
    "org_cols = [col for col in df_plantilla.columns \n",
    "            if any(keyword in col.lower() for keyword in \n",
    "                  ['departamento', 'division', 'area', 'puesto', 'cargo', 'familia'])]\n",
    "\n",
    "print(f\"Columnas organizacionales identificadas: {len(org_cols)}\")\n",
    "for col in org_cols[:10]:\n",
    "    print(f\"  - {col}\")"
   ]
  },
  {
   "cell_type": "code",
   "execution_count": null,
   "metadata": {},
   "outputs": [],
   "source": [
    "# Análisis por dimensión organizacional\n",
    "if len(org_cols) > 0 and len(status_cols) > 0:\n",
    "    # Seleccionar primera columna organizacional con cardinalidad razonable\n",
    "    for org_col in org_cols:\n",
    "        n_unique = df_plantilla[org_col].nunique()\n",
    "        if 2 <= n_unique <= 50:  # Cardinalidad razonable para visualización\n",
    "            print(f\"\\nAnálisis por {org_col}:\")\n",
    "            print(f\"Valores únicos: {n_unique}\")\n",
    "            \n",
    "            # Crosstab\n",
    "            ct = pd.crosstab(df_plantilla[org_col], df_plantilla[status_col])\n",
    "            print(\"\\nTabla de contingencia:\")\n",
    "            print(ct)\n",
    "            \n",
    "            # Visualización\n",
    "            if n_unique <= 15:\n",
    "                fig, ax = plt.subplots(figsize=(12, 6))\n",
    "                ct.plot(kind='bar', stacked=False, ax=ax)\n",
    "                ax.set_title(f'Distribución de {status_col} por {org_col}')\n",
    "                ax.set_ylabel('Frecuencia')\n",
    "                ax.tick_params(axis='x', rotation=45)\n",
    "                plt.legend(title=status_col)\n",
    "                plt.tight_layout()\n",
    "                plt.show()\n",
    "            \n",
    "            break  # Analizar solo la primera columna apropiada"
   ]
  },
  {
   "cell_type": "markdown",
   "metadata": {},
   "source": [
    "### 5.4 Análisis Geográfico"
   ]
  },
  {
   "cell_type": "code",
   "execution_count": null,
   "metadata": {},
   "outputs": [],
   "source": [
    "# Buscar columnas geográficas\n",
    "geo_cols = [col for col in df_plantilla.columns \n",
    "            if any(keyword in col.lower() for keyword in \n",
    "                  ['region', 'ciudad', 'estado', 'municipio', 'localidad', 'plaza'])]\n",
    "\n",
    "print(f\"Columnas geográficas identificadas: {len(geo_cols)}\")\n",
    "for col in geo_cols:\n",
    "    print(f\"  - {col}\")"
   ]
  },
  {
   "cell_type": "code",
   "execution_count": null,
   "metadata": {},
   "outputs": [],
   "source": [
    "# Análisis geográfico\n",
    "if len(geo_cols) > 0:\n",
    "    for geo_col in geo_cols:\n",
    "        n_unique = df_plantilla[geo_col].nunique()\n",
    "        if 2 <= n_unique <= 30:\n",
    "            print(f\"\\nDistribución por {geo_col}:\")\n",
    "            top_10 = df_plantilla[geo_col].value_counts().head(10)\n",
    "            print(top_10)\n",
    "            \n",
    "            # Visualización\n",
    "            plt.figure(figsize=(12, 6))\n",
    "            top_10.plot(kind='barh')\n",
    "            plt.xlabel('Número de Empleados')\n",
    "            plt.title(f'Top 10 {geo_col} por Número de Empleados')\n",
    "            plt.tight_layout()\n",
    "            plt.show()\n",
    "            \n",
    "            break"
   ]
  },
  {
   "cell_type": "markdown",
   "metadata": {},
   "source": [
    "## 6. Análisis de Encuesta Gerencial"
   ]
  },
  {
   "cell_type": "markdown",
   "metadata": {},
   "source": [
    "### 6.1 Estructura de Respuestas"
   ]
  },
  {
   "cell_type": "code",
   "execution_count": null,
   "metadata": {},
   "outputs": [],
   "source": [
    "# Número de respuestas\n",
    "print(f\"Total de respuestas de gerentes: {len(df_encuesta)}\")\n",
    "\n",
    "# Columnas de timestamp\n",
    "timestamp_col = df_encuesta.columns[0] if len(df_encuesta.columns) > 0 else None\n",
    "if timestamp_col and 'timestamp' in timestamp_col.lower():\n",
    "    df_encuesta[timestamp_col] = pd.to_datetime(df_encuesta[timestamp_col], errors='coerce')\n",
    "    print(f\"\\nPeriodo de recolección: {df_encuesta[timestamp_col].min()} a {df_encuesta[timestamp_col].max()}\")"
   ]
  },
  {
   "cell_type": "code",
   "execution_count": null,
   "metadata": {},
   "outputs": [],
   "source": [
    "# Análisis de completitud de respuestas\n",
    "completitud = (1 - df_encuesta.isnull().sum() / len(df_encuesta)) * 100\n",
    "print(\"Completitud de respuestas por pregunta:\")\n",
    "print(completitud.sort_values(ascending=False))"
   ]
  },
  {
   "cell_type": "markdown",
   "metadata": {},
   "source": [
    "### 6.2 Análisis de Longitud de Respuestas"
   ]
  },
  {
   "cell_type": "code",
   "execution_count": null,
   "metadata": {},
   "outputs": [],
   "source": [
    "# Analizar longitud de respuestas textuales\n",
    "text_cols = df_encuesta.select_dtypes(include=['object']).columns.tolist()\n",
    "\n",
    "# Excluir timestamp si existe\n",
    "if timestamp_col in text_cols:\n",
    "    text_cols.remove(timestamp_col)\n",
    "\n",
    "if len(text_cols) > 0:\n",
    "    longitudes = {}\n",
    "    for col in text_cols:\n",
    "        longitudes[col] = df_encuesta[col].dropna().astype(str).str.len().describe()\n",
    "    \n",
    "    df_longitudes = pd.DataFrame(longitudes).T\n",
    "    print(\"Estadísticas de longitud de respuestas (caracteres):\")\n",
    "    print(df_longitudes)"
   ]
  },
  {
   "cell_type": "code",
   "execution_count": null,
   "metadata": {},
   "outputs": [],
   "source": [
    "# Visualización de longitudes promedio\n",
    "if len(text_cols) > 0:\n",
    "    longitudes_promedio = {col: df_encuesta[col].dropna().astype(str).str.len().mean() \n",
    "                          for col in text_cols}\n",
    "    \n",
    "    plt.figure(figsize=(14, 6))\n",
    "    plt.bar(range(len(longitudes_promedio)), list(longitudes_promedio.values()))\n",
    "    plt.xticks(range(len(longitudes_promedio)), \n",
    "               [col[:50] + '...' if len(col) > 50 else col for col in longitudes_promedio.keys()], \n",
    "               rotation=45, ha='right')\n",
    "    plt.ylabel('Longitud Promedio (caracteres)')\n",
    "    plt.title('Longitud Promedio de Respuestas por Pregunta')\n",
    "    plt.tight_layout()\n",
    "    plt.show()"
   ]
  },
  {
   "cell_type": "markdown",
   "metadata": {},
   "source": [
    "## 7. Integración de Datasets"
   ]
  },
  {
   "cell_type": "markdown",
   "metadata": {},
   "source": [
    "### 7.1 Identificación de Claves de Vinculación"
   ]
  },
  {
   "cell_type": "code",
   "execution_count": null,
   "metadata": {},
   "outputs": [],
   "source": [
    "# Buscar columnas comunes o claves potenciales\n",
    "common_keywords = ['empleado', 'gerente', 'manager', 'numero', 'id', 'codigo']\n",
    "\n",
    "plantilla_keys = [col for col in df_plantilla.columns \n",
    "                  if any(keyword in col.lower() for keyword in common_keywords)]\n",
    "encuesta_keys = [col for col in df_encuesta.columns \n",
    "                 if any(keyword in col.lower() for keyword in common_keywords)]\n",
    "\n",
    "print(\"Posibles claves en Plantilla:\")\n",
    "for col in plantilla_keys[:10]:\n",
    "    print(f\"  - {col}\")\n",
    "\n",
    "print(\"\\nPosibles claves en Encuesta:\")\n",
    "for col in encuesta_keys:\n",
    "    print(f\"  - {col}\")"
   ]
  },
  {
   "cell_type": "markdown",
   "metadata": {},
   "source": [
    "### 7.2 Análisis de Relación entre Datasets"
   ]
  },
  {
   "cell_type": "code",
   "execution_count": null,
   "metadata": {},
   "outputs": [],
   "source": [
    "# Intentar identificar gerentes en ambos datasets\n",
    "# Esto dependerá de la estructura específica de los datos\n",
    "print(\"Este análisis requiere identificar columnas específicas de vinculación.\")\n",
    "print(\"Examinar las columnas anteriores para determinar la mejor estrategia de merge.\")"
   ]
  },
  {
   "cell_type": "markdown",
   "metadata": {},
   "source": [
    "## 8. Análisis de Correlaciones"
   ]
  },
  {
   "cell_type": "markdown",
   "metadata": {},
   "source": [
    "### 8.1 Matriz de Correlación - Variables Numéricas"
   ]
  },
  {
   "cell_type": "code",
   "execution_count": null,
   "metadata": {},
   "outputs": [],
   "source": [
    "# Correlaciones en variables numéricas\n",
    "if len(num_cols_plantilla) > 1:\n",
    "    # Calcular matriz de correlación\n",
    "    corr_matrix = df_plantilla[num_cols_plantilla].corr()\n",
    "    \n",
    "    # Visualización\n",
    "    plt.figure(figsize=(12, 10))\n",
    "    sns.heatmap(corr_matrix, annot=True, fmt='.2f', cmap='coolwarm', \n",
    "                center=0, square=True, linewidths=1)\n",
    "    plt.title('Matriz de Correlación - Variables Numéricas')\n",
    "    plt.tight_layout()\n",
    "    plt.show()\n",
    "    \n",
    "    # Identificar correlaciones altas\n",
    "    print(\"\\nCorrelaciones más altas (|r| > 0.7):\")\n",
    "    high_corr = []\n",
    "    for i in range(len(corr_matrix.columns)):\n",
    "        for j in range(i+1, len(corr_matrix.columns)):\n",
    "            if abs(corr_matrix.iloc[i, j]) > 0.7:\n",
    "                high_corr.append((corr_matrix.columns[i], \n",
    "                                corr_matrix.columns[j], \n",
    "                                corr_matrix.iloc[i, j]))\n",
    "    \n",
    "    for var1, var2, corr in high_corr:\n",
    "        print(f\"  {var1} <-> {var2}: {corr:.3f}\")\n",
    "else:\n",
    "    print(\"Insuficientes variables numéricas para análisis de correlación\")"
   ]
  },
  {
   "cell_type": "markdown",
   "metadata": {},
   "source": [
    "## 9. Visualizaciones Avanzadas"
   ]
  },
  {
   "cell_type": "markdown",
   "metadata": {},
   "source": [
    "### 9.1 Distribuciones Comparativas"
   ]
  },
  {
   "cell_type": "code",
   "execution_count": null,
   "metadata": {},
   "outputs": [],
   "source": [
    "# Comparación de antigüedad por estatus (si aplica)\n",
    "if 'antiguedad_anos' in df_plantilla.columns and len(status_cols) > 0:\n",
    "    status_col = status_cols[0]\n",
    "    \n",
    "    plt.figure(figsize=(14, 6))\n",
    "    \n",
    "    # Boxplot por estatus\n",
    "    df_plantilla.boxplot(column='antiguedad_anos', by=status_col, figsize=(12, 6))\n",
    "    plt.suptitle('')\n",
    "    plt.title(f'Distribución de Antigüedad por {status_col}')\n",
    "    plt.ylabel('Antigüedad (años)')\n",
    "    plt.tight_layout()\n",
    "    plt.show()\n",
    "    \n",
    "    # Violin plot\n",
    "    plt.figure(figsize=(12, 6))\n",
    "    status_values = df_plantilla[status_col].dropna().unique()\n",
    "    if len(status_values) <= 5:\n",
    "        sns.violinplot(data=df_plantilla, x=status_col, y='antiguedad_anos')\n",
    "        plt.title(f'Violin Plot: Antigüedad por {status_col}')\n",
    "        plt.ylabel('Antigüedad (años)')\n",
    "        plt.xticks(rotation=45)\n",
    "        plt.tight_layout()\n",
    "        plt.show()"
   ]
  },
  {
   "cell_type": "markdown",
   "metadata": {},
   "source": [
    "### 9.2 Series Temporales"
   ]
  },
  {
   "cell_type": "code",
   "execution_count": null,
   "metadata": {},
   "outputs": [],
   "source": [
    "# Análisis de tendencias temporales en ingresos y salidas\n",
    "if len(fecha_ingreso_cols) > 0:\n",
    "    fecha_ingreso_col = fecha_ingreso_cols[0]\n",
    "    \n",
    "    # Agrupar ingresos por mes\n",
    "    df_plantilla['mes_ingreso'] = df_plantilla[fecha_ingreso_col].dt.to_period('M')\n",
    "    ingresos_mensuales = df_plantilla.groupby('mes_ingreso').size()\n",
    "    \n",
    "    # Visualización\n",
    "    plt.figure(figsize=(14, 6))\n",
    "    ingresos_mensuales.plot()\n",
    "    plt.title('Tendencia de Ingresos Mensuales')\n",
    "    plt.xlabel('Mes')\n",
    "    plt.ylabel('Número de Ingresos')\n",
    "    plt.grid(True, alpha=0.3)\n",
    "    plt.tight_layout()\n",
    "    plt.show()\n",
    "\n",
    "if len(fecha_salida_cols) > 0:\n",
    "    fecha_salida_col = fecha_salida_cols[0]\n",
    "    \n",
    "    # Agrupar salidas por mes (solo no-nulos)\n",
    "    df_salidas = df_plantilla[df_plantilla[fecha_salida_col].notna()].copy()\n",
    "    df_salidas['mes_salida'] = df_salidas[fecha_salida_col].dt.to_period('M')\n",
    "    salidas_mensuales = df_salidas.groupby('mes_salida').size()\n",
    "    \n",
    "    # Visualización\n",
    "    plt.figure(figsize=(14, 6))\n",
    "    salidas_mensuales.plot(color='red')\n",
    "    plt.title('Tendencia de Salidas Mensuales')\n",
    "    plt.xlabel('Mes')\n",
    "    plt.ylabel('Número de Salidas')\n",
    "    plt.grid(True, alpha=0.3)\n",
    "    plt.tight_layout()\n",
    "    plt.show()"
   ]
  },
  {
   "cell_type": "markdown",
   "metadata": {},
   "source": [
    "## 10. Identificación de Patrones y Anomalías"
   ]
  },
  {
   "cell_type": "markdown",
   "metadata": {},
   "source": [
    "### 10.1 Detección de Outliers en Antigüedad"
   ]
  },
  {
   "cell_type": "code",
   "execution_count": null,
   "metadata": {},
   "outputs": [],
   "source": [
    "# Outliers en antigüedad usando IQR\n",
    "if 'antiguedad_anos' in df_plantilla.columns:\n",
    "    Q1 = df_plantilla['antiguedad_anos'].quantile(0.25)\n",
    "    Q3 = df_plantilla['antiguedad_anos'].quantile(0.75)\n",
    "    IQR = Q3 - Q1\n",
    "    \n",
    "    lower_bound = Q1 - 1.5 * IQR\n",
    "    upper_bound = Q3 + 1.5 * IQR\n",
    "    \n",
    "    outliers = df_plantilla[(df_plantilla['antiguedad_anos'] < lower_bound) | \n",
    "                            (df_plantilla['antiguedad_anos'] > upper_bound)]\n",
    "    \n",
    "    print(f\"Outliers detectados: {len(outliers):,} ({len(outliers)/len(df_plantilla)*100:.2f}%)\")\n",
    "    print(f\"Rango normal: [{lower_bound:.1f}, {upper_bound:.1f}] años\")\n",
    "    print(f\"\\nEstadísticas de outliers:\")\n",
    "    print(outliers['antiguedad_anos'].describe())"
   ]
  },
  {
   "cell_type": "markdown",
   "metadata": {},
   "source": [
    "### 10.2 Análisis de Segmentos de Riesgo"
   ]
  },
  {
   "cell_type": "code",
   "execution_count": null,
   "metadata": {},
   "outputs": [],
   "source": [
    "# Crear segmentos de antigüedad\n",
    "if 'antiguedad_anos' in df_plantilla.columns:\n",
    "    bins = [0, 0.5, 1, 2, 5, 10, 100]\n",
    "    labels = ['0-6 meses', '6-12 meses', '1-2 años', '2-5 años', '5-10 años', '10+ años']\n",
    "    df_plantilla['segmento_antiguedad'] = pd.cut(df_plantilla['antiguedad_anos'], \n",
    "                                                  bins=bins, labels=labels)\n",
    "    \n",
    "    print(\"Distribución por segmento de antigüedad:\")\n",
    "    print(df_plantilla['segmento_antiguedad'].value_counts().sort_index())\n",
    "    \n",
    "    # Visualización\n",
    "    fig, axes = plt.subplots(1, 2, figsize=(14, 5))\n",
    "    \n",
    "    # Barras\n",
    "    df_plantilla['segmento_antiguedad'].value_counts().sort_index().plot(kind='bar', ax=axes[0])\n",
    "    axes[0].set_title('Distribución por Segmento de Antigüedad')\n",
    "    axes[0].set_ylabel('Frecuencia')\n",
    "    axes[0].tick_params(axis='x', rotation=45)\n",
    "    \n",
    "    # Pastel\n",
    "    df_plantilla['segmento_antiguedad'].value_counts().plot(kind='pie', ax=axes[1], \n",
    "                                                             autopct='%1.1f%%')\n",
    "    axes[1].set_title('Proporción por Segmento')\n",
    "    axes[1].set_ylabel('')\n",
    "    \n",
    "    plt.tight_layout()\n",
    "    plt.show()"
   ]
  },
  {
   "cell_type": "markdown",
   "metadata": {},
   "source": [
    "### 10.3 Tasa de Rotación por Segmento"
   ]
  },
  {
   "cell_type": "code",
   "execution_count": null,
   "metadata": {},
   "outputs": [],
   "source": [
    "# Calcular tasa de rotación por segmento\n",
    "if 'segmento_antiguedad' in df_plantilla.columns and len(status_cols) > 0:\n",
    "    status_col = status_cols[0]\n",
    "    \n",
    "    # Identificar valor que indica inactivo\n",
    "    status_values = df_plantilla[status_col].value_counts()\n",
    "    print(f\"Valores de estatus: {status_values.index.tolist()}\")\n",
    "    \n",
    "    # Crosstab\n",
    "    ct_segmento = pd.crosstab(df_plantilla['segmento_antiguedad'], \n",
    "                              df_plantilla[status_col], \n",
    "                              margins=True)\n",
    "    print(\"\\nDistribución de estatus por segmento:\")\n",
    "    print(ct_segmento)\n",
    "    \n",
    "    # Visualización\n",
    "    ct_segmento_pct = pd.crosstab(df_plantilla['segmento_antiguedad'], \n",
    "                                  df_plantilla[status_col], \n",
    "                                  normalize='index') * 100\n",
    "    \n",
    "    plt.figure(figsize=(12, 6))\n",
    "    ct_segmento_pct.plot(kind='bar', stacked=True)\n",
    "    plt.title('Distribución Porcentual de Estatus por Segmento de Antigüedad')\n",
    "    plt.ylabel('Porcentaje (%)')\n",
    "    plt.xlabel('Segmento de Antigüedad')\n",
    "    plt.legend(title=status_col)\n",
    "    plt.xticks(rotation=45)\n",
    "    plt.tight_layout()\n",
    "    plt.show()"
   ]
  },
  {
   "cell_type": "markdown",
   "metadata": {},
   "source": [
    "## 11. Insights y Conclusiones"
   ]
  },
  {
   "cell_type": "markdown",
   "metadata": {},
   "source": [
    "### 11.1 Resumen Ejecutivo de Hallazgos"
   ]
  },
  {
   "cell_type": "code",
   "execution_count": null,
   "metadata": {},
   "outputs": [],
   "source": [
    "print(\"=\"*80)\n",
    "print(\"RESUMEN EJECUTIVO - ANÁLISIS EXPLORATORIO DE ROTACIÓN\")\n",
    "print(\"=\"*80)\n",
    "\n",
    "print(\"\\n1. VOLUMEN DE DATOS\")\n",
    "print(f\"   - Registros en plantilla: {len(df_plantilla):,}\")\n",
    "print(f\"   - Respuestas de gerentes: {len(df_encuesta):,}\")\n",
    "print(f\"   - Variables en plantilla: {len(df_plantilla.columns)}\")\n",
    "print(f\"   - Preguntas en encuesta: {len(df_encuesta.columns)}\")\n",
    "\n",
    "if len(status_cols) > 0:\n",
    "    print(\"\\n2. DISTRIBUCIÓN DE ESTATUS\")\n",
    "    status_dist = df_plantilla[status_cols[0]].value_counts()\n",
    "    for status, count in status_dist.items():\n",
    "        pct = count / len(df_plantilla) * 100\n",
    "        print(f\"   - {status}: {count:,} ({pct:.1f}%)\")\n",
    "\n",
    "if 'antiguedad_anos' in df_plantilla.columns:\n",
    "    print(\"\\n3. ANTIGÜEDAD\")\n",
    "    print(f\"   - Promedio: {df_plantilla['antiguedad_anos'].mean():.1f} años\")\n",
    "    print(f\"   - Mediana: {df_plantilla['antiguedad_anos'].median():.1f} años\")\n",
    "    print(f\"   - Desviación estándar: {df_plantilla['antiguedad_anos'].std():.1f} años\")\n",
    "    print(f\"   - Mínimo: {df_plantilla['antiguedad_anos'].min():.1f} años\")\n",
    "    print(f\"   - Máximo: {df_plantilla['antiguedad_anos'].max():.1f} años\")\n",
    "\n",
    "print(\"\\n4. CALIDAD DE DATOS\")\n",
    "print(f\"   - Completitud promedio plantilla: {(1 - df_plantilla.isnull().sum().sum() / (len(df_plantilla) * len(df_plantilla.columns))) * 100:.1f}%\")\n",
    "print(f\"   - Completitud promedio encuesta: {(1 - df_encuesta.isnull().sum().sum() / (len(df_encuesta) * len(df_encuesta.columns))) * 100:.1f}%\")\n",
    "print(f\"   - Duplicados en plantilla: {df_plantilla.duplicated().sum():,}\")\n",
    "print(f\"   - Duplicados en encuesta: {df_encuesta.duplicated().sum():,}\")\n",
    "\n",
    "print(\"\\n\" + \"=\"*80)"
   ]
  },
  {
   "cell_type": "markdown",
   "metadata": {},
   "source": [
    "### 11.2 Insights Accionables"
   ]
  },
  {
   "cell_type": "markdown",
   "metadata": {},
   "source": [
    "#### Basados en el análisis exploratorio, se identifican los siguientes insights clave:\n",
    "\n",
    "**A. Perfil de la Plantilla**\n",
    "- El análisis revela la distribución de empleados activos vs inactivos\n",
    "- La antigüedad promedio proporciona contexto sobre la estabilidad general\n",
    "- Los segmentos de antigüedad permiten identificar puntos críticos de retención\n",
    "\n",
    "**B. Patrones Temporales**\n",
    "- Las series temporales de ingresos y salidas revelan tendencias estacionales\n",
    "- Los picos de rotación pueden correlacionarse con eventos organizacionales\n",
    "- La distribución mensual ayuda a planificar recursos de reclutamiento\n",
    "\n",
    "**C. Segmentación de Riesgo**\n",
    "- Empleados con 6-12 meses típicamente representan un segmento crítico\n",
    "- La antigüedad muy baja o muy alta puede indicar patrones diferentes de rotación\n",
    "- Análisis por dimensiones organizacionales (departamento, ubicación) revela hotspots\n",
    "\n",
    "**D. Percepciones Gerenciales**\n",
    "- La completitud de respuestas indica nivel de engagement gerencial\n",
    "- La longitud de respuestas puede correlacionar con profundidad de insights\n",
    "- Combinación con datos cuantitativos valida o refuta percepciones\n",
    "\n",
    "**E. Calidad de Datos**\n",
    "- Valores faltantes en variables críticas requieren estrategia de imputación\n",
    "- Columnas con alta proporción de NaN deben evaluarse para exclusión\n",
    "- Consistencia entre datasets es clave para análisis integrado"
   ]
  },
  {
   "cell_type": "markdown",
   "metadata": {},
   "source": [
    "### 11.3 Recomendaciones para Análisis Posteriores"
   ]
  },
  {
   "cell_type": "markdown",
   "metadata": {},
   "source": [
    "#### Siguientes pasos sugeridos:\n",
    "\n",
    "1. **Modelado Predictivo**\n",
    "   - Desarrollar modelo de clasificación para predecir riesgo de rotación\n",
    "   - Utilizar técnicas de survival analysis para tiempo hasta salida\n",
    "   - Implementar segmentación avanzada con clustering\n",
    "\n",
    "2. **Análisis de Texto Avanzado**\n",
    "   - Topic modeling (LDA) ya implementado puede refinarse\n",
    "   - Análisis de sentimiento en respuestas gerenciales\n",
    "   - Extracción de entidades nombradas (NER) para factores específicos\n",
    "\n",
    "3. **Análisis Causal**\n",
    "   - Pruebas de hipótesis entre grupos (activos vs inactivos)\n",
    "   - Regresión múltiple para identificar drivers de rotación\n",
    "   - Análisis de varianza (ANOVA) por segmentos\n",
    "\n",
    "4. **Visualización Interactiva**\n",
    "   - Dashboard ejecutivo con métricas clave\n",
    "   - Filtros dinámicos por dimensiones organizacionales\n",
    "   - Alertas tempranas basadas en umbrales\n",
    "\n",
    "5. **Integración de Datos**\n",
    "   - Vinculación entre datasets mediante claves identificadas\n",
    "   - Enriquecimiento con fuentes adicionales (desempeño, compensación)\n",
    "   - Validación cruzada de percepciones vs realidad\n",
    "\n",
    "6. **Análisis de Cohortes**\n",
    "   - Seguimiento longitudinal de grupos de ingreso\n",
    "   - Tasas de supervivencia por cohorte\n",
    "   - Comparación de comportamiento entre generaciones de empleados\n",
    "\n",
    "7. **Benchmarking**\n",
    "   - Comparación con estándares de industria\n",
    "   - Análisis competitivo de tasas de rotación\n",
    "   - Identificación de mejores prácticas internas"
   ]
  },
  {
   "cell_type": "markdown",
   "metadata": {},
   "source": [
    "### 11.4 Limitaciones del Análisis Actual"
   ]
  },
  {
   "cell_type": "markdown",
   "metadata": {},
   "source": [
    "**Limitaciones identificadas:**\n",
    "\n",
    "1. **Datos Faltantes**: Algunas variables críticas pueden tener valores nulos que limitan análisis\n",
    "2. **Causalidad**: EDA es descriptivo, no establece relaciones causales\n",
    "3. **Temporalidad**: Snapshot en el tiempo, requiere datos longitudinales para tendencias robustas\n",
    "4. **Sesgos**: Posible sesgo de no-respuesta en encuestas gerenciales\n",
    "5. **Granularidad**: Algunos análisis requieren mayor desagregación por subgrupos\n",
    "6. **Validación Externa**: Falta comparación con benchmarks externos\n",
    "7. **Factores Externos**: No se capturan variables macroeconómicas o de mercado laboral"
   ]
  },
  {
   "cell_type": "markdown",
   "metadata": {},
   "source": [
    "---\n",
    "\n",
    "## Fin del Análisis Exploratorio\n",
    "\n",
    "**Autor**: Sistema de Análisis de Datos  \n",
    "**Fecha**: Generado automáticamente  \n",
    "**Versión**: 1.0  \n",
    "**Herramientas**: Python 3.11, pandas, numpy, matplotlib, seaborn\n",
    "\n",
    "---"
   ]
  }
 ],
 "metadata": {
  "kernelspec": {
   "display_name": "rotacion-encuestas",
   "language": "python",
   "name": "python3"
  },
  "language_info": {
   "codemirror_mode": {
    "name": "ipython",
    "version": 3
   },
   "file_extension": ".py",
   "mimetype": "text/x-python",
   "name": "python",
   "nbconvert_exporter": "python",
   "pygments_lexer": "ipython3",
   "version": "3.11.14"
  }
 },
 "nbformat": 4,
 "nbformat_minor": 4
}
