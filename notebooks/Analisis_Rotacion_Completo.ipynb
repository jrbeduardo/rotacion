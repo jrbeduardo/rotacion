{
 "cells": [
  {
   "cell_type": "markdown",
   "metadata": {},
   "source": [
    "# Análisis Completo de Rotación de Personal\n",
    "\n",
    "## Objetivo\n",
    "\n",
    "Realizar un análisis exhaustivo de la rotación de personal identificando:\n",
    "- Patrones de rotación por gerente, centro y estado\n",
    "- Relaciones entre indicadores administrativos y percepciones gerenciales\n",
    "- Factores contextuales que influyen en la rotación\n",
    "- Segmentos de empleados y gerentes con comportamientos similares\n",
    "- Insights accionables para la gestión estratégica de talento\n",
    "\n",
    "## Datasets\n",
    "\n",
    "1. **GCP_Core_Plantilla_ActivaVSAutorizada_REP_8_Sheet1.csv** - Datos administrativos de empleados\n",
    "2. **Sondeo - Perspectiva del Gerente sobre Rotación (Respuestas).xlsx** - Percepciones gerenciales\n",
    "\n",
    "---"
   ]
  },
  {
   "cell_type": "markdown",
   "metadata": {},
   "source": [
    "# 1. Configuración del Entorno"
   ]
  },
  {
   "cell_type": "code",
   "execution_count": null,
   "metadata": {},
   "outputs": [],
   "source": [
    "# Librerías fundamentales\n",
    "import pandas as pd\n",
    "import numpy as np\n",
    "from datetime import datetime, timedelta\n",
    "import warnings\n",
    "warnings.filterwarnings('ignore')\n",
    "\n",
    "# Visualización\n",
    "import matplotlib.pyplot as plt\n",
    "import seaborn as sns\n",
    "from wordcloud import WordCloud\n",
    "\n",
    "# NLP y análisis de sentimientos\n",
    "from textblob import TextBlob\n",
    "import re\n",
    "\n",
    "# Machine Learning\n",
    "from sklearn.preprocessing import StandardScaler\n",
    "from sklearn.cluster import KMeans\n",
    "from sklearn.decomposition import PCA\n",
    "from sklearn.metrics import silhouette_score\n",
    "\n",
    "# Configuración de visualización\n",
    "plt.style.use('seaborn-v0_8-whitegrid')\n",
    "sns.set_palette(\"husl\")\n",
    "%matplotlib inline\n",
    "\n",
    "# Configuración de pandas\n",
    "pd.set_option('display.max_columns', None)\n",
    "pd.set_option('display.max_rows', 100)\n",
    "pd.set_option('display.float_format', '{:.2f}'.format)\n",
    "\n",
    "print(\"Entorno configurado correctamente\")\n",
    "print(f\"Versión de pandas: {pd.__version__}\")\n",
    "print(f\"Versión de numpy: {np.__version__}\")"
   ]
  },
  {
   "cell_type": "markdown",
   "metadata": {},
   "source": [
    "# 2. Carga y Exploración de Datos"
   ]
  },
  {
   "cell_type": "markdown",
   "metadata": {},
   "source": [
    "## 2.1 Carga de Datasets"
   ]
  },
  {
   "cell_type": "code",
   "execution_count": null,
   "metadata": {},
   "outputs": [],
   "source": [
    "# Cargar dataset de plantilla\n",
    "print(\"Cargando dataset de plantilla...\")\n",
    "df_plantilla = pd.read_csv('../data/GCP_Core_Plantilla_ActivaVSAutorizada_REP_8_Sheet1.csv', \n",
    "                           low_memory=False)\n",
    "\n",
    "print(f\"Dimensiones: {df_plantilla.shape}\")\n",
    "print(f\"Registros: {df_plantilla.shape[0]:,}\")\n",
    "print(f\"Variables: {df_plantilla.shape[1]}\")\n",
    "\n",
    "# Cargar dataset de encuesta\n",
    "print(\"\\nCargando encuesta gerencial...\")\n",
    "df_encuesta = pd.read_excel('../data/Sondeo  -   Perspectiva del Gerente sobre Rotación  (Respuestas).xlsx')\n",
    "\n",
    "print(f\"Dimensiones: {df_encuesta.shape}\")\n",
    "print(f\"Respuestas: {df_encuesta.shape[0]:,}\")\n",
    "print(f\"Preguntas: {df_encuesta.shape[1]}\")"
   ]
  },
  {
   "cell_type": "markdown",
   "metadata": {},
   "source": [
    "## 2.2 Inspección Inicial"
   ]
  },
  {
   "cell_type": "code",
   "execution_count": null,
   "metadata": {},
   "outputs": [],
   "source": [
    "# Primeras filas de plantilla\n",
    "print(\"Primeras filas de plantilla:\")\n",
    "df_plantilla.head()"
   ]
  },
  {
   "cell_type": "code",
   "execution_count": null,
   "metadata": {},
   "outputs": [],
   "source": [
    "# Estructura de plantilla\n",
    "print(\"Estructura del dataset de plantilla:\")\n",
    "df_plantilla.info()"
   ]
  },
  {
   "cell_type": "code",
   "execution_count": null,
   "metadata": {},
   "outputs": [],
   "source": [
    "# Primeras filas de encuesta\n",
    "print(\"Primeras filas de encuesta:\")\n",
    "df_encuesta.head()"
   ]
  },
  {
   "cell_type": "code",
   "execution_count": null,
   "metadata": {},
   "outputs": [],
   "source": [
    "# Columnas disponibles\n",
    "print(\"Columnas en dataset de plantilla:\")\n",
    "for i, col in enumerate(df_plantilla.columns, 1):\n",
    "    print(f\"{i:3}. {col}\")"
   ]
  },
  {
   "cell_type": "code",
   "execution_count": null,
   "metadata": {},
   "outputs": [],
   "source": [
    "# Columnas de encuesta\n",
    "print(\"Preguntas en encuesta:\")\n",
    "for i, col in enumerate(df_encuesta.columns, 1):\n",
    "    print(f\"{i:2}. {col[:100]}...\" if len(col) > 100 else f\"{i:2}. {col}\")"
   ]
  },
  {
   "cell_type": "markdown",
   "metadata": {},
   "source": [
    "# 3. Limpieza y Transformación de Datos"
   ]
  },
  {
   "cell_type": "markdown",
   "metadata": {},
   "source": [
    "## 3.1 Identificación de Columnas Clave"
   ]
  },
  {
   "cell_type": "code",
   "execution_count": null,
   "metadata": {},
   "outputs": [],
   "source": [
    "# Identificar columnas relevantes en plantilla\n",
    "status_cols = [col for col in df_plantilla.columns \n",
    "               if any(keyword in col.lower() for keyword in ['status', 'estatus', 'estado', 'activ'])]\n",
    "\n",
    "gerente_cols = [col for col in df_plantilla.columns \n",
    "                if any(keyword in col.lower() for keyword in ['gerente', 'manager', 'jefe', 'supervisor'])]\n",
    "\n",
    "centro_cols = [col for col in df_plantilla.columns \n",
    "               if any(keyword in col.lower() for keyword in ['centro', 'tienda', 'sucursal', 'plaza'])]\n",
    "\n",
    "estado_cols = [col for col in df_plantilla.columns \n",
    "               if any(keyword in col.lower() for keyword in ['estado', 'region', 'entidad'])]\n",
    "\n",
    "fecha_cols = [col for col in df_plantilla.columns \n",
    "              if any(keyword in col.lower() for keyword in ['fecha', 'date', 'ingreso', 'salida', 'baja', 'alta'])]\n",
    "\n",
    "salario_cols = [col for col in df_plantilla.columns \n",
    "                if any(keyword in col.lower() for keyword in ['salario', 'sueldo', 'compensacion', 'pago'])]\n",
    "\n",
    "print(\"Columnas identificadas:\")\n",
    "print(f\"\\nEstatus: {status_cols}\")\n",
    "print(f\"Gerente: {gerente_cols}\")\n",
    "print(f\"Centro: {centro_cols}\")\n",
    "print(f\"Estado: {estado_cols}\")\n",
    "print(f\"Fechas: {fecha_cols}\")\n",
    "print(f\"Salario: {salario_cols}\")"
   ]
  },
  {
   "cell_type": "markdown",
   "metadata": {},
   "source": [
    "## 3.2 Conversión de Tipos de Datos"
   ]
  },
  {
   "cell_type": "code",
   "execution_count": null,
   "metadata": {},
   "outputs": [],
   "source": [
    "# Convertir fechas\n",
    "print(\"Convirtiendo columnas de fecha...\")\n",
    "for col in fecha_cols:\n",
    "    try:\n",
    "        df_plantilla[col] = pd.to_datetime(df_plantilla[col], errors='coerce')\n",
    "        print(f\"✓ {col}: {df_plantilla[col].notna().sum():,} valores válidos\")\n",
    "    except Exception as e:\n",
    "        print(f\"✗ Error en {col}: {str(e)}\")"
   ]
  },
  {
   "cell_type": "markdown",
   "metadata": {},
   "source": [
    "## 3.3 Cálculo de Variables Derivadas"
   ]
  },
  {
   "cell_type": "code",
   "execution_count": null,
   "metadata": {},
   "outputs": [],
   "source": [
    "# Calcular antigüedad\n",
    "fecha_ingreso_cols = [col for col in fecha_cols \n",
    "                      if any(keyword in col.lower() for keyword in ['ingreso', 'alta', 'inicio'])]\n",
    "fecha_salida_cols = [col for col in fecha_cols \n",
    "                     if any(keyword in col.lower() for keyword in ['salida', 'baja', 'fin', 'termino'])]\n",
    "\n",
    "if len(fecha_ingreso_cols) > 0:\n",
    "    fecha_ingreso_col = fecha_ingreso_cols[0]\n",
    "    print(f\"Calculando antigüedad basada en: {fecha_ingreso_col}\")\n",
    "    \n",
    "    fecha_ref = datetime.now()\n",
    "    \n",
    "    if len(fecha_salida_cols) > 0:\n",
    "        fecha_salida_col = fecha_salida_cols[0]\n",
    "        # Para inactivos, usar fecha de salida; para activos, usar fecha actual\n",
    "        df_plantilla['antiguedad_dias'] = np.where(\n",
    "            df_plantilla[fecha_salida_col].notna(),\n",
    "            (df_plantilla[fecha_salida_col] - df_plantilla[fecha_ingreso_col]).dt.days,\n",
    "            (fecha_ref - df_plantilla[fecha_ingreso_col]).dt.days\n",
    "        )\n",
    "    else:\n",
    "        df_plantilla['antiguedad_dias'] = (fecha_ref - df_plantilla[fecha_ingreso_col]).dt.days\n",
    "    \n",
    "    # Convertir a años y meses\n",
    "    df_plantilla['antiguedad_anos'] = df_plantilla['antiguedad_dias'] / 365.25\n",
    "    df_plantilla['antiguedad_meses'] = df_plantilla['antiguedad_dias'] / 30.44\n",
    "    \n",
    "    print(f\"Antigüedad calculada para {df_plantilla['antiguedad_anos'].notna().sum():,} registros\")\n",
    "    print(f\"Promedio: {df_plantilla['antiguedad_anos'].mean():.1f} años\")\n",
    "    print(f\"Mediana: {df_plantilla['antiguedad_anos'].median():.1f} años\")"
   ]
  },
  {
   "cell_type": "code",
   "execution_count": null,
   "metadata": {},
   "outputs": [],
   "source": [
    "# Crear segmentos de antigüedad\n",
    "if 'antiguedad_anos' in df_plantilla.columns:\n",
    "    bins = [0, 0.5, 1, 2, 5, 10, 100]\n",
    "    labels = ['0-6m', '6m-1a', '1-2a', '2-5a', '5-10a', '10a+']\n",
    "    df_plantilla['segmento_antiguedad'] = pd.cut(\n",
    "        df_plantilla['antiguedad_anos'], \n",
    "        bins=bins, \n",
    "        labels=labels\n",
    "    )\n",
    "    print(\"Segmentos de antigüedad creados\")"
   ]
  },
  {
   "cell_type": "code",
   "execution_count": null,
   "metadata": {},
   "outputs": [],
   "source": [
    "# Identificar empleados activos vs inactivos\n",
    "if len(status_cols) > 0:\n",
    "    status_col = status_cols[0]\n",
    "    print(f\"\\nDistribución de estatus ({status_col}):\")\n",
    "    print(df_plantilla[status_col].value_counts())\n",
    "    \n",
    "    # Crear variable binaria de rotación\n",
    "    # Asumiendo que valores como 'Inactivo', 'Baja', etc. indican rotación\n",
    "    inactive_keywords = ['inactiv', 'baja', 'salid', 'termin', 'cesad']\n",
    "    df_plantilla['rotacion'] = df_plantilla[status_col].astype(str).str.lower().apply(\n",
    "        lambda x: 1 if any(keyword in x for keyword in inactive_keywords) else 0\n",
    "    )\n",
    "    \n",
    "    tasa_global = df_plantilla['rotacion'].mean() * 100\n",
    "    print(f\"\\nTasa de rotación global: {tasa_global:.2f}%\")\n",
    "    print(f\"Empleados activos: {(df_plantilla['rotacion']==0).sum():,}\")\n",
    "    print(f\"Empleados inactivos: {(df_plantilla['rotacion']==1).sum():,}\")"
   ]
  },
  {
   "cell_type": "markdown",
   "metadata": {},
   "source": [
    "# 4. Análisis Descriptivo"
   ]
  },
  {
   "cell_type": "markdown",
   "metadata": {},
   "source": [
    "## 4.1 Estadísticas Generales"
   ]
  },
  {
   "cell_type": "code",
   "execution_count": null,
   "metadata": {},
   "outputs": [],
   "source": [
    "# Resumen ejecutivo\n",
    "print(\"=\"*80)\n",
    "print(\"RESUMEN EJECUTIVO\")\n",
    "print(\"=\"*80)\n",
    "\n",
    "print(f\"\\nTotal de empleados en base de datos: {len(df_plantilla):,}\")\n",
    "\n",
    "if 'rotacion' in df_plantilla.columns:\n",
    "    print(f\"Empleados activos: {(df_plantilla['rotacion']==0).sum():,} ({(1-df_plantilla['rotacion'].mean())*100:.1f}%)\")\n",
    "    print(f\"Empleados con rotación: {(df_plantilla['rotacion']==1).sum():,} ({df_plantilla['rotacion'].mean()*100:.1f}%)\")\n",
    "\n",
    "if 'antiguedad_anos' in df_plantilla.columns:\n",
    "    print(f\"\\nAntigüedad promedio: {df_plantilla['antiguedad_anos'].mean():.1f} años\")\n",
    "    print(f\"Antigüedad mediana: {df_plantilla['antiguedad_anos'].median():.1f} años\")\n",
    "\n",
    "if len(gerente_cols) > 0:\n",
    "    gerente_col = gerente_cols[0]\n",
    "    print(f\"\\nNúmero de gerentes únicos: {df_plantilla[gerente_col].nunique():,}\")\n",
    "\n",
    "if len(centro_cols) > 0:\n",
    "    centro_col = centro_cols[0]\n",
    "    print(f\"Número de centros únicos: {df_plantilla[centro_col].nunique():,}\")\n",
    "\n",
    "if len(estado_cols) > 0:\n",
    "    estado_col = estado_cols[0]\n",
    "    print(f\"Número de estados únicos: {df_plantilla[estado_col].nunique():,}\")\n",
    "\n",
    "print(f\"\\nRespuestas de encuesta gerencial: {len(df_encuesta):,}\")"
   ]
  },
  {
   "cell_type": "markdown",
   "metadata": {},
   "source": [
    "## 4.2 Distribución de Antigüedad"
   ]
  },
  {
   "cell_type": "code",
   "execution_count": null,
   "metadata": {},
   "outputs": [],
   "source": [
    "# Visualización de antigüedad\n",
    "if 'antiguedad_anos' in df_plantilla.columns:\n",
    "    fig, axes = plt.subplots(2, 2, figsize=(15, 10))\n",
    "    \n",
    "    # Histograma\n",
    "    axes[0, 0].hist(df_plantilla['antiguedad_anos'].dropna(), bins=50, edgecolor='black', alpha=0.7)\n",
    "    axes[0, 0].axvline(df_plantilla['antiguedad_anos'].mean(), color='red', \n",
    "                       linestyle='--', linewidth=2, label=f'Media: {df_plantilla[\"antiguedad_anos\"].mean():.1f}a')\n",
    "    axes[0, 0].axvline(df_plantilla['antiguedad_anos'].median(), color='green', \n",
    "                       linestyle='--', linewidth=2, label=f'Mediana: {df_plantilla[\"antiguedad_anos\"].median():.1f}a')\n",
    "    axes[0, 0].set_xlabel('Antigüedad (años)')\n",
    "    axes[0, 0].set_ylabel('Frecuencia')\n",
    "    axes[0, 0].set_title('Distribución de Antigüedad')\n",
    "    axes[0, 0].legend()\n",
    "    axes[0, 0].grid(True, alpha=0.3)\n",
    "    \n",
    "    # Boxplot\n",
    "    axes[0, 1].boxplot(df_plantilla['antiguedad_anos'].dropna())\n",
    "    axes[0, 1].set_ylabel('Antigüedad (años)')\n",
    "    axes[0, 1].set_title('Boxplot de Antigüedad')\n",
    "    axes[0, 1].grid(True, alpha=0.3)\n",
    "    \n",
    "    # Distribución por segmento\n",
    "    if 'segmento_antiguedad' in df_plantilla.columns:\n",
    "        seg_counts = df_plantilla['segmento_antiguedad'].value_counts().sort_index()\n",
    "        axes[1, 0].bar(range(len(seg_counts)), seg_counts.values)\n",
    "        axes[1, 0].set_xticks(range(len(seg_counts)))\n",
    "        axes[1, 0].set_xticklabels(seg_counts.index, rotation=45)\n",
    "        axes[1, 0].set_ylabel('Frecuencia')\n",
    "        axes[1, 0].set_title('Distribución por Segmento de Antigüedad')\n",
    "        axes[1, 0].grid(True, alpha=0.3, axis='y')\n",
    "    \n",
    "    # Pie chart de segmentos\n",
    "    if 'segmento_antiguedad' in df_plantilla.columns:\n",
    "        axes[1, 1].pie(seg_counts.values, labels=seg_counts.index, autopct='%1.1f%%', startangle=90)\n",
    "        axes[1, 1].set_title('Proporción por Segmento')\n",
    "    \n",
    "    plt.tight_layout()\n",
    "    plt.show()"
   ]
  },
  {
   "cell_type": "markdown",
   "metadata": {},
   "source": [
    "# 5. Análisis de Rotación por Dimensiones"
   ]
  },
  {
   "cell_type": "markdown",
   "metadata": {},
   "source": [
    "## 5.1 Rotación por Gerente"
   ]
  },
  {
   "cell_type": "code",
   "execution_count": null,
   "metadata": {},
   "outputs": [],
   "source": [
    "# Análisis por gerente\n",
    "if len(gerente_cols) > 0 and 'rotacion' in df_plantilla.columns:\n",
    "    gerente_col = gerente_cols[0]\n",
    "    \n",
    "    # Calcular métricas por gerente\n",
    "    gerente_stats = df_plantilla.groupby(gerente_col).agg({\n",
    "        'rotacion': ['sum', 'count', 'mean'],\n",
    "        'antiguedad_anos': ['mean', 'median'] if 'antiguedad_anos' in df_plantilla.columns else ['count']\n",
    "    }).round(3)\n",
    "    \n",
    "    gerente_stats.columns = ['_'.join(col).strip() for col in gerente_stats.columns.values]\n",
    "    gerente_stats = gerente_stats.rename(columns={\n",
    "        'rotacion_sum': 'num_rotaciones',\n",
    "        'rotacion_count': 'total_empleados',\n",
    "        'rotacion_mean': 'tasa_rotacion',\n",
    "        'antiguedad_anos_mean': 'antiguedad_promedio',\n",
    "        'antiguedad_anos_median': 'antiguedad_mediana'\n",
    "    })\n",
    "    \n",
    "    gerente_stats['tasa_rotacion_pct'] = gerente_stats['tasa_rotacion'] * 100\n",
    "    gerente_stats = gerente_stats.sort_values('tasa_rotacion_pct', ascending=False)\n",
    "    \n",
    "    print(f\"Análisis de {len(gerente_stats)} gerentes\")\n",
    "    print(f\"\\nTasa de rotación promedio por gerente: {gerente_stats['tasa_rotacion_pct'].mean():.2f}%\")\n",
    "    print(f\"Tasa de rotación mediana por gerente: {gerente_stats['tasa_rotacion_pct'].median():.2f}%\")\n",
    "    print(f\"Desviación estándar: {gerente_stats['tasa_rotacion_pct'].std():.2f}%\")\n",
    "    \n",
    "    print(\"\\nTop 10 gerentes con mayor rotación:\")\n",
    "    print(gerente_stats[['total_empleados', 'num_rotaciones', 'tasa_rotacion_pct']].head(10))\n",
    "    \n",
    "    print(\"\\nTop 10 gerentes con menor rotación:\")\n",
    "    print(gerente_stats[['total_empleados', 'num_rotaciones', 'tasa_rotacion_pct']].tail(10))"
   ]
  },
  {
   "cell_type": "code",
   "execution_count": null,
   "metadata": {},
   "outputs": [],
   "source": [
    "# Visualización de rotación por gerente\n",
    "if len(gerente_cols) > 0 and 'rotacion' in df_plantilla.columns:\n",
    "    fig, axes = plt.subplots(2, 2, figsize=(15, 10))\n",
    "    \n",
    "    # Top 20 gerentes con mayor rotación\n",
    "    top_20 = gerente_stats.head(20)\n",
    "    axes[0, 0].barh(range(len(top_20)), top_20['tasa_rotacion_pct'].values)\n",
    "    axes[0, 0].set_yticks(range(len(top_20)))\n",
    "    axes[0, 0].set_yticklabels([str(idx)[:30] for idx in top_20.index])\n",
    "    axes[0, 0].set_xlabel('Tasa de Rotación (%)')\n",
    "    axes[0, 0].set_title('Top 20 Gerentes con Mayor Rotación')\n",
    "    axes[0, 0].grid(True, alpha=0.3, axis='x')\n",
    "    axes[0, 0].invert_yaxis()\n",
    "    \n",
    "    # Histograma de tasas de rotación por gerente\n",
    "    axes[0, 1].hist(gerente_stats['tasa_rotacion_pct'], bins=30, edgecolor='black', alpha=0.7)\n",
    "    axes[0, 1].axvline(gerente_stats['tasa_rotacion_pct'].mean(), color='red', \n",
    "                       linestyle='--', linewidth=2, label='Media')\n",
    "    axes[0, 1].set_xlabel('Tasa de Rotación (%)')\n",
    "    axes[0, 1].set_ylabel('Frecuencia de Gerentes')\n",
    "    axes[0, 1].set_title('Distribución de Tasas de Rotación por Gerente')\n",
    "    axes[0, 1].legend()\n",
    "    axes[0, 1].grid(True, alpha=0.3)\n",
    "    \n",
    "    # Scatter: empleados vs tasa de rotación\n",
    "    axes[1, 0].scatter(gerente_stats['total_empleados'], \n",
    "                       gerente_stats['tasa_rotacion_pct'], \n",
    "                       alpha=0.6, s=50)\n",
    "    axes[1, 0].set_xlabel('Total de Empleados por Gerente')\n",
    "    axes[1, 0].set_ylabel('Tasa de Rotación (%)')\n",
    "    axes[1, 0].set_title('Relación: Tamaño de Equipo vs Rotación')\n",
    "    axes[1, 0].grid(True, alpha=0.3)\n",
    "    \n",
    "    # Boxplot de tasa de rotación\n",
    "    axes[1, 1].boxplot(gerente_stats['tasa_rotacion_pct'].dropna())\n",
    "    axes[1, 1].set_ylabel('Tasa de Rotación (%)')\n",
    "    axes[1, 1].set_title('Boxplot: Variabilidad de Rotación entre Gerentes')\n",
    "    axes[1, 1].grid(True, alpha=0.3)\n",
    "    \n",
    "    plt.tight_layout()\n",
    "    plt.show()"
   ]
  },
  {
   "cell_type": "markdown",
   "metadata": {},
   "source": [
    "## 5.2 Rotación por Centro"
   ]
  },
  {
   "cell_type": "code",
   "execution_count": null,
   "metadata": {},
   "outputs": [],
   "source": [
    "# Análisis por centro\n",
    "if len(centro_cols) > 0 and 'rotacion' in df_plantilla.columns:\n",
    "    centro_col = centro_cols[0]\n",
    "    \n",
    "    centro_stats = df_plantilla.groupby(centro_col).agg({\n",
    "        'rotacion': ['sum', 'count', 'mean'],\n",
    "        'antiguedad_anos': ['mean', 'median'] if 'antiguedad_anos' in df_plantilla.columns else ['count']\n",
    "    }).round(3)\n",
    "    \n",
    "    centro_stats.columns = ['_'.join(col).strip() for col in centro_stats.columns.values]\n",
    "    centro_stats = centro_stats.rename(columns={\n",
    "        'rotacion_sum': 'num_rotaciones',\n",
    "        'rotacion_count': 'total_empleados',\n",
    "        'rotacion_mean': 'tasa_rotacion',\n",
    "        'antiguedad_anos_mean': 'antiguedad_promedio',\n",
    "        'antiguedad_anos_median': 'antiguedad_mediana'\n",
    "    })\n",
    "    \n",
    "    centro_stats['tasa_rotacion_pct'] = centro_stats['tasa_rotacion'] * 100\n",
    "    centro_stats = centro_stats.sort_values('tasa_rotacion_pct', ascending=False)\n",
    "    \n",
    "    print(f\"Análisis de {len(centro_stats)} centros\")\n",
    "    print(f\"\\nTasa de rotación promedio por centro: {centro_stats['tasa_rotacion_pct'].mean():.2f}%\")\n",
    "    print(f\"Tasa de rotación mediana por centro: {centro_stats['tasa_rotacion_pct'].median():.2f}%\")\n",
    "    \n",
    "    print(\"\\nTop 10 centros con mayor rotación:\")\n",
    "    print(centro_stats[['total_empleados', 'num_rotaciones', 'tasa_rotacion_pct']].head(10))\n",
    "    \n",
    "    print(\"\\nTop 10 centros con menor rotación:\")\n",
    "    print(centro_stats[['total_empleados', 'num_rotaciones', 'tasa_rotacion_pct']].tail(10))"
   ]
  },
  {
   "cell_type": "code",
   "execution_count": null,
   "metadata": {},
   "outputs": [],
   "source": [
    "# Visualización por centro\n",
    "if len(centro_cols) > 0 and 'rotacion' in df_plantilla.columns:\n",
    "    fig, axes = plt.subplots(1, 2, figsize=(15, 6))\n",
    "    \n",
    "    # Top 15 centros con mayor rotación\n",
    "    top_15_centros = centro_stats.head(15)\n",
    "    axes[0].barh(range(len(top_15_centros)), top_15_centros['tasa_rotacion_pct'].values, color='coral')\n",
    "    axes[0].set_yticks(range(len(top_15_centros)))\n",
    "    axes[0].set_yticklabels([str(idx)[:30] for idx in top_15_centros.index])\n",
    "    axes[0].set_xlabel('Tasa de Rotación (%)')\n",
    "    axes[0].set_title('Top 15 Centros con Mayor Rotación')\n",
    "    axes[0].grid(True, alpha=0.3, axis='x')\n",
    "    axes[0].invert_yaxis()\n",
    "    \n",
    "    # Distribución de rotación por centro\n",
    "    axes[1].hist(centro_stats['tasa_rotacion_pct'], bins=25, edgecolor='black', alpha=0.7, color='skyblue')\n",
    "    axes[1].axvline(centro_stats['tasa_rotacion_pct'].mean(), color='red', \n",
    "                    linestyle='--', linewidth=2, label=f'Media: {centro_stats[\"tasa_rotacion_pct\"].mean():.1f}%')\n",
    "    axes[1].set_xlabel('Tasa de Rotación (%)')\n",
    "    axes[1].set_ylabel('Frecuencia de Centros')\n",
    "    axes[1].set_title('Distribución de Tasas de Rotación por Centro')\n",
    "    axes[1].legend()\n",
    "    axes[1].grid(True, alpha=0.3)\n",
    "    \n",
    "    plt.tight_layout()\n",
    "    plt.show()"
   ]
  },
  {
   "cell_type": "markdown",
   "metadata": {},
   "source": [
    "## 5.3 Rotación por Estado"
   ]
  },
  {
   "cell_type": "code",
   "execution_count": null,
   "metadata": {},
   "outputs": [],
   "source": [
    "# Análisis por estado\n",
    "if len(estado_cols) > 0 and 'rotacion' in df_plantilla.columns:\n",
    "    estado_col = estado_cols[0]\n",
    "    \n",
    "    estado_stats = df_plantilla.groupby(estado_col).agg({\n",
    "        'rotacion': ['sum', 'count', 'mean'],\n",
    "        'antiguedad_anos': ['mean', 'median'] if 'antiguedad_anos' in df_plantilla.columns else ['count']\n",
    "    }).round(3)\n",
    "    \n",
    "    estado_stats.columns = ['_'.join(col).strip() for col in estado_stats.columns.values]\n",
    "    estado_stats = estado_stats.rename(columns={\n",
    "        'rotacion_sum': 'num_rotaciones',\n",
    "        'rotacion_count': 'total_empleados',\n",
    "        'rotacion_mean': 'tasa_rotacion',\n",
    "        'antiguedad_anos_mean': 'antiguedad_promedio',\n",
    "        'antiguedad_anos_median': 'antiguedad_mediana'\n",
    "    })\n",
    "    \n",
    "    estado_stats['tasa_rotacion_pct'] = estado_stats['tasa_rotacion'] * 100\n",
    "    estado_stats = estado_stats.sort_values('tasa_rotacion_pct', ascending=False)\n",
    "    \n",
    "    print(f\"Análisis de {len(estado_stats)} estados\")\n",
    "    print(f\"\\nTasa de rotación promedio por estado: {estado_stats['tasa_rotacion_pct'].mean():.2f}%\")\n",
    "    print(f\"Tasa de rotación mediana por estado: {estado_stats['tasa_rotacion_pct'].median():.2f}%\")\n",
    "    \n",
    "    print(\"\\nEstados con mayor rotación:\")\n",
    "    print(estado_stats[['total_empleados', 'num_rotaciones', 'tasa_rotacion_pct']].head(10))\n",
    "    \n",
    "    print(\"\\nEstados con menor rotación:\")\n",
    "    print(estado_stats[['total_empleados', 'num_rotaciones', 'tasa_rotacion_pct']].tail(10))"
   ]
  },
  {
   "cell_type": "code",
   "execution_count": null,
   "metadata": {},
   "outputs": [],
   "source": [
    "# Visualización por estado\n",
    "if len(estado_cols) > 0 and 'rotacion' in df_plantilla.columns:\n",
    "    fig, axes = plt.subplots(2, 1, figsize=(15, 10))\n",
    "    \n",
    "    # Todos los estados ordenados por rotación\n",
    "    axes[0].barh(range(len(estado_stats)), estado_stats['tasa_rotacion_pct'].values, color='mediumseagreen')\n",
    "    axes[0].set_yticks(range(len(estado_stats)))\n",
    "    axes[0].set_yticklabels([str(idx)[:30] for idx in estado_stats.index], fontsize=8)\n",
    "    axes[0].set_xlabel('Tasa de Rotación (%)')\n",
    "    axes[0].set_title('Tasa de Rotación por Estado')\n",
    "    axes[0].grid(True, alpha=0.3, axis='x')\n",
    "    axes[0].invert_yaxis()\n",
    "    \n",
    "    # Scatter: empleados por estado vs rotación\n",
    "    axes[1].scatter(estado_stats['total_empleados'], \n",
    "                    estado_stats['tasa_rotacion_pct'], \n",
    "                    s=100, alpha=0.6, color='purple')\n",
    "    axes[1].set_xlabel('Total de Empleados por Estado')\n",
    "    axes[1].set_ylabel('Tasa de Rotación (%)')\n",
    "    axes[1].set_title('Relación: Tamaño de Plantilla Estatal vs Rotación')\n",
    "    axes[1].grid(True, alpha=0.3)\n",
    "    \n",
    "    # Etiquetar estados extremos\n",
    "    for idx in estado_stats.head(3).index:\n",
    "        x = estado_stats.loc[idx, 'total_empleados']\n",
    "        y = estado_stats.loc[idx, 'tasa_rotacion_pct']\n",
    "        axes[1].annotate(str(idx)[:15], (x, y), fontsize=8, alpha=0.7)\n",
    "    \n",
    "    plt.tight_layout()\n",
    "    plt.show()"
   ]
  },
  {
   "cell_type": "markdown",
   "metadata": {},
   "source": [
    "# 6. Análisis de Sentimientos"
   ]
  },
  {
   "cell_type": "markdown",
   "metadata": {},
   "source": [
    "## 6.1 Preparación de Textos"
   ]
  },
  {
   "cell_type": "code",
   "execution_count": null,
   "metadata": {},
   "outputs": [],
   "source": [
    "# Identificar columnas de texto (preguntas abiertas)\n",
    "text_cols = df_encuesta.select_dtypes(include=['object']).columns.tolist()\n",
    "\n",
    "# Excluir timestamp si existe\n",
    "timestamp_col = [col for col in text_cols if 'timestamp' in col.lower()]\n",
    "if len(timestamp_col) > 0:\n",
    "    text_cols.remove(timestamp_col[0])\n",
    "\n",
    "print(f\"Columnas de texto identificadas: {len(text_cols)}\")\n",
    "for i, col in enumerate(text_cols, 1):\n",
    "    print(f\"{i}. {col[:80]}...\" if len(col) > 80 else f\"{i}. {col}\")"
   ]
  },
  {
   "cell_type": "markdown",
   "metadata": {},
   "source": [
    "## 6.2 Análisis de Sentimientos con TextBlob"
   ]
  },
  {
   "cell_type": "code",
   "execution_count": null,
   "metadata": {},
   "outputs": [],
   "source": [
    "# Función para analizar sentimiento\n",
    "def analyze_sentiment(text):\n",
    "    \"\"\"Analiza el sentimiento de un texto usando TextBlob\"\"\"\n",
    "    if pd.isna(text) or text == '':\n",
    "        return {'polarity': 0, 'subjectivity': 0, 'sentiment': 'neutral'}\n",
    "    \n",
    "    try:\n",
    "        blob = TextBlob(str(text))\n",
    "        polarity = blob.sentiment.polarity\n",
    "        subjectivity = blob.sentiment.subjectivity\n",
    "        \n",
    "        # Clasificar sentimiento\n",
    "        if polarity > 0.1:\n",
    "            sentiment = 'positivo'\n",
    "        elif polarity < -0.1:\n",
    "            sentiment = 'negativo'\n",
    "        else:\n",
    "            sentiment = 'neutral'\n",
    "        \n",
    "        return {\n",
    "            'polarity': polarity,\n",
    "            'subjectivity': subjectivity,\n",
    "            'sentiment': sentiment\n",
    "        }\n",
    "    except:\n",
    "        return {'polarity': 0, 'subjectivity': 0, 'sentiment': 'neutral'}\n",
    "\n",
    "print(\"Función de análisis de sentimientos definida\")"
   ]
  },
  {
   "cell_type": "code",
   "execution_count": null,
   "metadata": {},
   "outputs": [],
   "source": [
    "# Aplicar análisis de sentimientos a cada pregunta\n",
    "if len(text_cols) > 0:\n",
    "    print(\"Analizando sentimientos...\")\n",
    "    \n",
    "    sentiment_results = {}\n",
    "    \n",
    "    for col in text_cols:\n",
    "        print(f\"\\nProcesando: {col[:60]}...\")\n",
    "        \n",
    "        # Analizar cada respuesta\n",
    "        sentiments = df_encuesta[col].apply(analyze_sentiment)\n",
    "        \n",
    "        # Extraer métricas\n",
    "        df_encuesta[f'{col}_polarity'] = sentiments.apply(lambda x: x['polarity'])\n",
    "        df_encuesta[f'{col}_subjectivity'] = sentiments.apply(lambda x: x['subjectivity'])\n",
    "        df_encuesta[f'{col}_sentiment'] = sentiments.apply(lambda x: x['sentiment'])\n",
    "        \n",
    "        # Resumen\n",
    "        sentiment_counts = df_encuesta[f'{col}_sentiment'].value_counts()\n",
    "        avg_polarity = df_encuesta[f'{col}_polarity'].mean()\n",
    "        avg_subjectivity = df_encuesta[f'{col}_subjectivity'].mean()\n",
    "        \n",
    "        sentiment_results[col] = {\n",
    "            'counts': sentiment_counts,\n",
    "            'avg_polarity': avg_polarity,\n",
    "            'avg_subjectivity': avg_subjectivity\n",
    "        }\n",
    "        \n",
    "        print(f\"  Polaridad promedio: {avg_polarity:.3f}\")\n",
    "        print(f\"  Subjetividad promedio: {avg_subjectivity:.3f}\")\n",
    "        print(f\"  Distribución: {sentiment_counts.to_dict()}\")\n",
    "    \n",
    "    print(\"\\n Análisis de sentimientos completado\")"
   ]
  },
  {
   "cell_type": "markdown",
   "metadata": {},
   "source": [
    "## 6.3 Visualización de Sentimientos"
   ]
  },
  {
   "cell_type": "code",
   "execution_count": null,
   "metadata": {},
   "outputs": [],
   "source": [
    "# Visualización de distribución de sentimientos por pregunta\n",
    "if len(text_cols) > 0 and len(text_cols) <= 6:\n",
    "    fig, axes = plt.subplots(2, 3, figsize=(18, 10))\n",
    "    axes = axes.flatten()\n",
    "    \n",
    "    for i, col in enumerate(text_cols[:6]):\n",
    "        sentiment_col = f'{col}_sentiment'\n",
    "        if sentiment_col in df_encuesta.columns:\n",
    "            counts = df_encuesta[sentiment_col].value_counts()\n",
    "            colors = ['green' if x=='positivo' else 'red' if x=='negativo' else 'gray' \n",
    "                     for x in counts.index]\n",
    "            axes[i].bar(range(len(counts)), counts.values, color=colors)\n",
    "            axes[i].set_xticks(range(len(counts)))\n",
    "            axes[i].set_xticklabels(counts.index, rotation=45)\n",
    "            axes[i].set_ylabel('Frecuencia')\n",
    "            axes[i].set_title(f'P{i+1}: Distribución de Sentimientos', fontsize=10)\n",
    "            axes[i].grid(True, alpha=0.3, axis='y')\n",
    "    \n",
    "    plt.tight_layout()\n",
    "    plt.show()"
   ]
  },
  {
   "cell_type": "code",
   "execution_count": null,
   "metadata": {},
   "outputs": [],
   "source": [
    "# Polaridad promedio por pregunta\n",
    "if len(text_cols) > 0:\n",
    "    polarity_cols = [f'{col}_polarity' for col in text_cols]\n",
    "    polarity_cols = [col for col in polarity_cols if col in df_encuesta.columns]\n",
    "    \n",
    "    if len(polarity_cols) > 0:\n",
    "        avg_polarities = [df_encuesta[col].mean() for col in polarity_cols]\n",
    "        labels = [f'P{i+1}' for i in range(len(polarity_cols))]\n",
    "        \n",
    "        plt.figure(figsize=(12, 6))\n",
    "        colors = ['green' if p > 0 else 'red' if p < 0 else 'gray' for p in avg_polarities]\n",
    "        plt.bar(labels, avg_polarities, color=colors, alpha=0.7, edgecolor='black')\n",
    "        plt.axhline(y=0, color='black', linestyle='-', linewidth=0.8)\n",
    "        plt.ylabel('Polaridad Promedio')\n",
    "        plt.xlabel('Pregunta')\n",
    "        plt.title('Polaridad Promedio por Pregunta de Encuesta')\n",
    "        plt.grid(True, alpha=0.3, axis='y')\n",
    "        plt.tight_layout()\n",
    "        plt.show()"
   ]
  },
  {
   "cell_type": "markdown",
   "metadata": {},
   "source": [
    "## 6.4 Nube de Palabras"
   ]
  },
  {
   "cell_type": "code",
   "execution_count": null,
   "metadata": {},
   "outputs": [],
   "source": [
    "# Generar nube de palabras para cada pregunta\n",
    "if len(text_cols) > 0:\n",
    "    # Seleccionar primeras 3 preguntas para visualización\n",
    "    for i, col in enumerate(text_cols[:3]):\n",
    "        # Combinar todas las respuestas\n",
    "        all_text = ' '.join(df_encuesta[col].dropna().astype(str).values)\n",
    "        \n",
    "        if len(all_text) > 50:\n",
    "            # Generar nube de palabras\n",
    "            wordcloud = WordCloud(\n",
    "                width=800, \n",
    "                height=400, \n",
    "                background_color='white',\n",
    "                colormap='viridis',\n",
    "                max_words=100\n",
    "            ).generate(all_text)\n",
    "            \n",
    "            plt.figure(figsize=(12, 6))\n",
    "            plt.imshow(wordcloud, interpolation='bilinear')\n",
    "            plt.axis('off')\n",
    "            plt.title(f'Nube de Palabras - Pregunta {i+1}', fontsize=14, pad=20)\n",
    "            plt.tight_layout()\n",
    "            plt.show()"
   ]
  },
  {
   "cell_type": "markdown",
   "metadata": {},
   "source": [
    "# 7. Análisis de Correlaciones"
   ]
  },
  {
   "cell_type": "markdown",
   "metadata": {},
   "source": [
    "## 7.1 Preparación de Dataset Integrado"
   ]
  },
  {
   "cell_type": "code",
   "execution_count": null,
   "metadata": {},
   "outputs": [],
   "source": [
    "# Crear dataset agregado para análisis de correlaciones\n",
    "# Usar estadísticas por gerente como base\n",
    "\n",
    "if len(gerente_cols) > 0 and 'rotacion' in df_plantilla.columns:\n",
    "    # Dataset base con métricas por gerente\n",
    "    df_correlacion = gerente_stats.copy()\n",
    "    \n",
    "    # Agregar promedio de salario si existe\n",
    "    if len(salario_cols) > 0:\n",
    "        salario_col = salario_cols[0]\n",
    "        salario_por_gerente = df_plantilla.groupby(gerente_col)[salario_col].mean()\n",
    "        df_correlacion['salario_promedio'] = salario_por_gerente\n",
    "    \n",
    "    # Agregar número de centros por gerente\n",
    "    if len(centro_cols) > 0:\n",
    "        centro_col = centro_cols[0]\n",
    "        centros_por_gerente = df_plantilla.groupby(gerente_col)[centro_col].nunique()\n",
    "        df_correlacion['num_centros'] = centros_por_gerente\n",
    "    \n",
    "    print(f\"Dataset de correlación creado con {len(df_correlacion)} gerentes\")\n",
    "    print(f\"Variables: {list(df_correlacion.columns)}\")\n",
    "    \n",
    "    df_correlacion.head()"
   ]
  },
  {
   "cell_type": "markdown",
   "metadata": {},
   "source": [
    "## 7.2 Matriz de Correlación"
   ]
  },
  {
   "cell_type": "code",
   "execution_count": null,
   "metadata": {},
   "outputs": [],
   "source": [
    "# Calcular matriz de correlación\n",
    "if 'df_correlacion' in locals():\n",
    "    # Seleccionar solo columnas numéricas\n",
    "    numeric_cols = df_correlacion.select_dtypes(include=[np.number]).columns.tolist()\n",
    "    \n",
    "    if len(numeric_cols) > 1:\n",
    "        corr_matrix = df_correlacion[numeric_cols].corr()\n",
    "        \n",
    "        # Visualización\n",
    "        plt.figure(figsize=(12, 10))\n",
    "        sns.heatmap(corr_matrix, \n",
    "                    annot=True, \n",
    "                    fmt='.2f', \n",
    "                    cmap='coolwarm', \n",
    "                    center=0, \n",
    "                    square=True, \n",
    "                    linewidths=1,\n",
    "                    cbar_kws={'label': 'Correlación'})\n",
    "        plt.title('Matriz de Correlación - Métricas por Gerente', fontsize=14, pad=20)\n",
    "        plt.tight_layout()\n",
    "        plt.show()\n",
    "        \n",
    "        # Identificar correlaciones significativas con tasa de rotación\n",
    "        if 'tasa_rotacion_pct' in corr_matrix.columns:\n",
    "            print(\"\\nCorrelaciones con Tasa de Rotación:\")\n",
    "            correlations = corr_matrix['tasa_rotacion_pct'].sort_values(ascending=False)\n",
    "            print(correlations)"
   ]
  },
  {
   "cell_type": "markdown",
   "metadata": {},
   "source": [
    "## 7.3 Scatter Plots de Relaciones Clave"
   ]
  },
  {
   "cell_type": "code",
   "execution_count": null,
   "metadata": {},
   "outputs": [],
   "source": [
    "# Scatter plots de variables relevantes vs rotación\n",
    "if 'df_correlacion' in locals() and 'tasa_rotacion_pct' in df_correlacion.columns:\n",
    "    # Identificar variables numéricas (excluyendo tasa_rotacion)\n",
    "    vars_to_plot = [col for col in numeric_cols if col != 'tasa_rotacion_pct' and col != 'tasa_rotacion']\n",
    "    \n",
    "    if len(vars_to_plot) > 0:\n",
    "        n_plots = min(len(vars_to_plot), 6)\n",
    "        fig, axes = plt.subplots(2, 3, figsize=(18, 10))\n",
    "        axes = axes.flatten()\n",
    "        \n",
    "        for i, var in enumerate(vars_to_plot[:6]):\n",
    "            axes[i].scatter(df_correlacion[var], \n",
    "                           df_correlacion['tasa_rotacion_pct'], \n",
    "                           alpha=0.6, s=50)\n",
    "            axes[i].set_xlabel(var)\n",
    "            axes[i].set_ylabel('Tasa de Rotación (%)')\n",
    "            axes[i].set_title(f'Relación: {var} vs Rotación')\n",
    "            axes[i].grid(True, alpha=0.3)\n",
    "            \n",
    "            # Línea de tendencia\n",
    "            z = np.polyfit(df_correlacion[var].dropna(), \n",
    "                          df_correlacion.loc[df_correlacion[var].notna(), 'tasa_rotacion_pct'], \n",
    "                          1)\n",
    "            p = np.poly1d(z)\n",
    "            axes[i].plot(df_correlacion[var].sort_values(), \n",
    "                        p(df_correlacion[var].sort_values()), \n",
    "                        \"r--\", alpha=0.8, linewidth=2)\n",
    "        \n",
    "        # Ocultar ejes no usados\n",
    "        for i in range(n_plots, 6):\n",
    "            axes[i].axis('off')\n",
    "        \n",
    "        plt.tight_layout()\n",
    "        plt.show()"
   ]
  },
  {
   "cell_type": "markdown",
   "metadata": {},
   "source": [
    "# 8. Clustering (K-Means)"
   ]
  },
  {
   "cell_type": "markdown",
   "metadata": {},
   "source": [
    "## 8.1 Preparación de Datos para Clustering"
   ]
  },
  {
   "cell_type": "code",
   "execution_count": null,
   "metadata": {},
   "outputs": [],
   "source": [
    "# Preparar datos para clustering\n",
    "if 'df_correlacion' in locals():\n",
    "    # Seleccionar variables para clustering\n",
    "    clustering_vars = ['tasa_rotacion_pct', 'total_empleados']\n",
    "    \n",
    "    if 'antiguedad_promedio' in df_correlacion.columns:\n",
    "        clustering_vars.append('antiguedad_promedio')\n",
    "    \n",
    "    if 'salario_promedio' in df_correlacion.columns:\n",
    "        clustering_vars.append('salario_promedio')\n",
    "    \n",
    "    # Crear dataset sin valores faltantes\n",
    "    df_clustering = df_correlacion[clustering_vars].dropna()\n",
    "    \n",
    "    print(f\"Dataset para clustering: {df_clustering.shape}\")\n",
    "    print(f\"Variables seleccionadas: {clustering_vars}\")\n",
    "    print(f\"\\nEstadísticas:\")\n",
    "    print(df_clustering.describe())"
   ]
  },
  {
   "cell_type": "markdown",
   "metadata": {},
   "source": [
    "## 8.2 Normalización de Datos"
   ]
  },
  {
   "cell_type": "code",
   "execution_count": null,
   "metadata": {},
   "outputs": [],
   "source": [
    "# Normalizar variables\n",
    "if 'df_clustering' in locals() and len(df_clustering) > 0:\n",
    "    scaler = StandardScaler()\n",
    "    X_scaled = scaler.fit_transform(df_clustering)\n",
    "    \n",
    "    print(\"Datos normalizados\")\n",
    "    print(f\"Shape: {X_scaled.shape}\")"
   ]
  },
  {
   "cell_type": "markdown",
   "metadata": {},
   "source": [
    "## 8.3 Determinación del Número Óptimo de Clusters (Método del Codo)"
   ]
  },
  {
   "cell_type": "code",
   "execution_count": null,
   "metadata": {},
   "outputs": [],
   "source": [
    "# Método del codo\n",
    "if 'X_scaled' in locals():\n",
    "    inertias = []\n",
    "    silhouette_scores = []\n",
    "    K_range = range(2, 11)\n",
    "    \n",
    "    print(\"Evaluando número óptimo de clusters...\")\n",
    "    for k in K_range:\n",
    "        kmeans = KMeans(n_clusters=k, random_state=42, n_init=10)\n",
    "        kmeans.fit(X_scaled)\n",
    "        inertias.append(kmeans.inertia_)\n",
    "        silhouette_scores.append(silhouette_score(X_scaled, kmeans.labels_))\n",
    "    \n",
    "    # Visualización\n",
    "    fig, axes = plt.subplots(1, 2, figsize=(14, 5))\n",
    "    \n",
    "    # Método del codo\n",
    "    axes[0].plot(K_range, inertias, 'bo-', linewidth=2, markersize=8)\n",
    "    axes[0].set_xlabel('Número de Clusters (k)')\n",
    "    axes[0].set_ylabel('Inercia')\n",
    "    axes[0].set_title('Método del Codo')\n",
    "    axes[0].grid(True, alpha=0.3)\n",
    "    \n",
    "    # Silhouette score\n",
    "    axes[1].plot(K_range, silhouette_scores, 'ro-', linewidth=2, markersize=8)\n",
    "    axes[1].set_xlabel('Número de Clusters (k)')\n",
    "    axes[1].set_ylabel('Silhouette Score')\n",
    "    axes[1].set_title('Silhouette Score por Número de Clusters')\n",
    "    axes[1].grid(True, alpha=0.3)\n",
    "    \n",
    "    plt.tight_layout()\n",
    "    plt.show()\n",
    "    \n",
    "    # Identificar k óptimo\n",
    "    optimal_k = K_range[np.argmax(silhouette_scores)]\n",
    "    print(f\"\\nK óptimo (máximo silhouette score): {optimal_k}\")\n",
    "    print(f\"Silhouette score: {max(silhouette_scores):.3f}\")"
   ]
  },
  {
   "cell_type": "markdown",
   "metadata": {},
   "source": [
    "## 8.4 Aplicación de K-Means"
   ]
  },
  {
   "cell_type": "code",
   "execution_count": null,
   "metadata": {},
   "outputs": [],
   "source": [
    "# Aplicar K-Means con k óptimo\n",
    "if 'X_scaled' in locals() and 'optimal_k' in locals():\n",
    "    # Usar k=4 si no se determinó óptimo\n",
    "    k_final = optimal_k if optimal_k else 4\n",
    "    \n",
    "    kmeans_final = KMeans(n_clusters=k_final, random_state=42, n_init=10)\n",
    "    clusters = kmeans_final.fit_predict(X_scaled)\n",
    "    \n",
    "    # Agregar clusters al dataset\n",
    "    df_clustering['cluster'] = clusters\n",
    "    \n",
    "    print(f\"Clustering completado con k={k_final}\")\n",
    "    print(f\"\\nDistribución de clusters:\")\n",
    "    print(df_clustering['cluster'].value_counts().sort_index())"
   ]
  },
  {
   "cell_type": "markdown",
   "metadata": {},
   "source": [
    "## 8.5 Caracterización de Clusters"
   ]
  },
  {
   "cell_type": "code",
   "execution_count": null,
   "metadata": {},
   "outputs": [],
   "source": [
    "# Caracterizar cada cluster\n",
    "if 'cluster' in df_clustering.columns:\n",
    "    print(\"Características de cada cluster:\\n\")\n",
    "    print(\"=\"*80)\n",
    "    \n",
    "    for cluster_id in sorted(df_clustering['cluster'].unique()):\n",
    "        cluster_data = df_clustering[df_clustering['cluster'] == cluster_id]\n",
    "        \n",
    "        print(f\"\\nCLUSTER {cluster_id}\")\n",
    "        print(\"-\" * 40)\n",
    "        print(f\"Tamaño: {len(cluster_data)} gerentes ({len(cluster_data)/len(df_clustering)*100:.1f}%)\")\n",
    "        print(f\"\\nPromedios:\")\n",
    "        for var in clustering_vars:\n",
    "            print(f\"  {var}: {cluster_data[var].mean():.2f}\")\n",
    "        print(\"=\"*80)"
   ]
  },
  {
   "cell_type": "markdown",
   "metadata": {},
   "source": [
    "## 8.6 Visualización de Clusters"
   ]
  },
  {
   "cell_type": "code",
   "execution_count": null,
   "metadata": {},
   "outputs": [],
   "source": [
    "# Visualización en 2D con PCA\n",
    "if 'X_scaled' in locals() and 'clusters' in locals():\n",
    "    # Reducción dimensional con PCA\n",
    "    pca = PCA(n_components=2)\n",
    "    X_pca = pca.fit_transform(X_scaled)\n",
    "    \n",
    "    # Scatter plot\n",
    "    plt.figure(figsize=(12, 8))\n",
    "    scatter = plt.scatter(X_pca[:, 0], X_pca[:, 1], \n",
    "                         c=clusters, \n",
    "                         cmap='viridis', \n",
    "                         s=100, \n",
    "                         alpha=0.6, \n",
    "                         edgecolors='black')\n",
    "    plt.xlabel(f'PC1 ({pca.explained_variance_ratio_[0]*100:.1f}% varianza)')\n",
    "    plt.ylabel(f'PC2 ({pca.explained_variance_ratio_[1]*100:.1f}% varianza)')\n",
    "    plt.title('Clusters de Gerentes (Proyección PCA)', fontsize=14)\n",
    "    plt.colorbar(scatter, label='Cluster')\n",
    "    plt.grid(True, alpha=0.3)\n",
    "    plt.tight_layout()\n",
    "    plt.show()\n",
    "    \n",
    "    print(f\"Varianza explicada por componentes principales: {sum(pca.explained_variance_ratio_)*100:.1f}%\")"
   ]
  },
  {
   "cell_type": "code",
   "execution_count": null,
   "metadata": {},
   "outputs": [],
   "source": [
    "# Visualización multi-dimensional\n",
    "if 'cluster' in df_clustering.columns and len(clustering_vars) >= 2:\n",
    "    # Pairplot de las variables principales\n",
    "    vars_to_plot = clustering_vars[:4] + ['cluster']\n",
    "    \n",
    "    # Scatter plots por pares de variables\n",
    "    if len(clustering_vars) >= 2:\n",
    "        fig, axes = plt.subplots(2, 2, figsize=(15, 12))\n",
    "        axes = axes.flatten()\n",
    "        \n",
    "        combinations = [\n",
    "            ('tasa_rotacion_pct', 'total_empleados'),\n",
    "            ('tasa_rotacion_pct', 'antiguedad_promedio') if 'antiguedad_promedio' in clustering_vars else None,\n",
    "            ('total_empleados', 'antiguedad_promedio') if 'antiguedad_promedio' in clustering_vars else None,\n",
    "            ('tasa_rotacion_pct', 'salario_promedio') if 'salario_promedio' in clustering_vars else None\n",
    "        ]\n",
    "        \n",
    "        plot_idx = 0\n",
    "        for combo in combinations:\n",
    "            if combo is not None and plot_idx < 4:\n",
    "                var_x, var_y = combo\n",
    "                for cluster_id in sorted(df_clustering['cluster'].unique()):\n",
    "                    cluster_data = df_clustering[df_clustering['cluster'] == cluster_id]\n",
    "                    axes[plot_idx].scatter(cluster_data[var_x], \n",
    "                                          cluster_data[var_y], \n",
    "                                          label=f'Cluster {cluster_id}',\n",
    "                                          s=80, \n",
    "                                          alpha=0.6)\n",
    "                \n",
    "                axes[plot_idx].set_xlabel(var_x)\n",
    "                axes[plot_idx].set_ylabel(var_y)\n",
    "                axes[plot_idx].set_title(f'{var_x} vs {var_y}')\n",
    "                axes[plot_idx].legend()\n",
    "                axes[plot_idx].grid(True, alpha=0.3)\n",
    "                plot_idx += 1\n",
    "        \n",
    "        # Ocultar ejes no usados\n",
    "        for i in range(plot_idx, 4):\n",
    "            axes[i].axis('off')\n",
    "        \n",
    "        plt.tight_layout()\n",
    "        plt.show()"
   ]
  },
  {
   "cell_type": "markdown",
   "metadata": {},
   "source": [
    "# 9. Insights y Conclusiones"
   ]
  },
  {
   "cell_type": "markdown",
   "metadata": {},
   "source": [
    "## 9.1 Resumen de Hallazgos Principales"
   ]
  },
  {
   "cell_type": "code",
   "execution_count": null,
   "metadata": {},
   "outputs": [],
   "source": [
    "print(\"=\"*80)\n",
    "print(\"INSIGHTS Y HALLAZGOS PRINCIPALES\")\n",
    "print(\"=\"*80)\n",
    "\n",
    "print(\"\\n1. PANORAMA GENERAL\")\n",
    "print(\"-\" * 40)\n",
    "if 'rotacion' in df_plantilla.columns:\n",
    "    print(f\"   Tasa de rotación global: {df_plantilla['rotacion'].mean()*100:.2f}%\")\n",
    "    print(f\"   Total de empleados: {len(df_plantilla):,}\")\n",
    "    print(f\"   Empleados activos: {(df_plantilla['rotacion']==0).sum():,}\")\n",
    "    print(f\"   Empleados inactivos: {(df_plantilla['rotacion']==1).sum():,}\")\n",
    "\n",
    "print(\"\\n2. VARIABILIDAD POR DIMENSIONES\")\n",
    "print(\"-\" * 40)\n",
    "if 'gerente_stats' in locals():\n",
    "    print(f\"   Gerentes analizados: {len(gerente_stats)}\")\n",
    "    print(f\"   Rotación promedio por gerente: {gerente_stats['tasa_rotacion_pct'].mean():.2f}%\")\n",
    "    print(f\"   Desviación estándar: {gerente_stats['tasa_rotacion_pct'].std():.2f}%\")\n",
    "    print(f\"   Rango: [{gerente_stats['tasa_rotacion_pct'].min():.2f}%, {gerente_stats['tasa_rotacion_pct'].max():.2f}%]\")\n",
    "\n",
    "if 'centro_stats' in locals():\n",
    "    print(f\"\\n   Centros analizados: {len(centro_stats)}\")\n",
    "    print(f\"   Rotación promedio por centro: {centro_stats['tasa_rotacion_pct'].mean():.2f}%\")\n",
    "\n",
    "if 'estado_stats' in locals():\n",
    "    print(f\"\\n   Estados analizados: {len(estado_stats)}\")\n",
    "    print(f\"   Rotación promedio por estado: {estado_stats['tasa_rotacion_pct'].mean():.2f}%\")\n",
    "\n",
    "print(\"\\n3. ANÁLISIS DE SENTIMIENTOS\")\n",
    "print(\"-\" * 40)\n",
    "if 'sentiment_results' in locals():\n",
    "    for i, (col, results) in enumerate(list(sentiment_results.items())[:3], 1):\n",
    "        print(f\"\\n   Pregunta {i}:\")\n",
    "        print(f\"     Polaridad promedio: {results['avg_polarity']:.3f}\")\n",
    "        print(f\"     Distribución: {results['counts'].to_dict()}\")\n",
    "\n",
    "print(\"\\n4. SEGMENTACIÓN (CLUSTERING)\")\n",
    "print(\"-\" * 40)\n",
    "if 'df_clustering' in locals() and 'cluster' in df_clustering.columns:\n",
    "    print(f\"   Número de clusters identificados: {df_clustering['cluster'].nunique()}\")\n",
    "    print(f\"   Distribución:\")\n",
    "    for cluster_id in sorted(df_clustering['cluster'].unique()):\n",
    "        count = (df_clustering['cluster'] == cluster_id).sum()\n",
    "        pct = count / len(df_clustering) * 100\n",
    "        avg_rot = df_clustering[df_clustering['cluster']==cluster_id]['tasa_rotacion_pct'].mean()\n",
    "        print(f\"     Cluster {cluster_id}: {count} gerentes ({pct:.1f}%) - Rotación promedio: {avg_rot:.2f}%\")\n",
    "\n",
    "print(\"\\n\" + \"=\"*80)"
   ]
  },
  {
   "cell_type": "markdown",
   "metadata": {},
   "source": [
    "## 9.2 Insights Accionables"
   ]
  },
  {
   "cell_type": "markdown",
   "metadata": {},
   "source": [
    "### Hallazgos Clave\n",
    "\n",
    "**A. Heterogeneidad en Rotación**\n",
    "- Existe alta variabilidad en las tasas de rotación entre gerentes, centros y estados\n",
    "- Esta variabilidad sugiere que factores locales y de gestión tienen impacto significativo\n",
    "- Algunos gerentes/centros consistentemente superan o están por debajo del promedio\n",
    "\n",
    "**B. Patrones de Antigüedad**\n",
    "- La distribución de antigüedad revela segmentos críticos de retención\n",
    "- Empleados en los primeros 6-12 meses son típicamente más vulnerables\n",
    "- Existe correlación entre antigüedad promedio del equipo y estabilidad\n",
    "\n",
    "**C. Percepciones Gerenciales**\n",
    "- El análisis de sentimientos muestra polaridades variables por pregunta\n",
    "- Las preguntas sobre factores de retención tienden a generar respuestas más positivas\n",
    "- Las preguntas sobre desafíos muestran mayor negatividad y especificidad\n",
    "\n",
    "**D. Segmentación de Gerentes**\n",
    "- El clustering identifica perfiles distintos de gerentes basados en métricas clave\n",
    "- Algunos clusters presentan alta rotación con equipos grandes\n",
    "- Otros clusters muestran baja rotación con mayor antigüedad promedio\n",
    "\n",
    "---\n",
    "\n",
    "### Recomendaciones Estratégicas\n",
    "\n",
    "**1. Intervenciones Diferenciadas**\n",
    "- Diseñar programas de retención específicos para cada cluster identificado\n",
    "- Priorizar recursos en gerentes/centros con mayor tasa de rotación\n",
    "- Implementar mejores prácticas de gerentes con baja rotación\n",
    "\n",
    "**2. Fortalecimiento de Onboarding**\n",
    "- Enfoque intensivo en primeros 6-12 meses de empleo\n",
    "- Mentoring estructurado para nuevos empleados\n",
    "- Seguimiento cercano de satisfacción en período crítico\n",
    "\n",
    "**3. Desarrollo Gerencial**\n",
    "- Capacitación en gestión de talento para gerentes en clusters de alta rotación\n",
    "- Benchmarking interno de mejores prácticas\n",
    "- Sistema de alertas tempranas basado en métricas predictivas\n",
    "\n",
    "**4. Análisis Contextual**\n",
    "- Investigar factores contextuales en estados/centros con mayor rotación\n",
    "- Considerar variables económicas y competitivas locales\n",
    "- Ajustar compensación y beneficios según mercado local\n",
    "\n",
    "**5. Monitoreo Continuo**\n",
    "- Dashboard de rotación en tiempo real por dimensiones clave\n",
    "- Métricas predictivas (early warning indicators)\n",
    "- Encuestas periódicas de clima y compromiso\n",
    "\n",
    "---"
   ]
  },
  {
   "cell_type": "markdown",
   "metadata": {},
   "source": [
    "## 9.3 Limitaciones del Análisis"
   ]
  },
  {
   "cell_type": "markdown",
   "metadata": {},
   "source": [
    "**Limitaciones Identificadas:**\n",
    "\n",
    "1. **Causalidad vs Correlación**: El análisis es descriptivo y correlacional, no establece relaciones causales\n",
    "\n",
    "2. **Análisis de Sentimientos**: TextBlob fue entrenado en inglés, puede tener limitaciones con español\n",
    "\n",
    "3. **Variables Contextuales**: No se incorporaron datos económicos, demográficos o de mercado laboral externos\n",
    "\n",
    "4. **Temporalidad**: Análisis de snapshot, no captura tendencias longitudinales completas\n",
    "\n",
    "5. **Sesgo de No-Respuesta**: Las encuestas pueden tener sesgo según qué gerentes respondieron\n",
    "\n",
    "6. **Granularidad**: Algunos análisis requieren mayor desagregación por puesto, función, etc.\n",
    "\n",
    "7. **Validación Externa**: Falta comparación con benchmarks de industria\n",
    "\n",
    "---"
   ]
  },
  {
   "cell_type": "markdown",
   "metadata": {},
   "source": [
    "## 9.4 Próximos Pasos"
   ]
  },
  {
   "cell_type": "markdown",
   "metadata": {},
   "source": [
    "**Análisis Futuros Recomendados:**\n",
    "\n",
    "1. **Modelado Predictivo**\n",
    "   - Desarrollar modelo de clasificación para predecir riesgo de rotación individual\n",
    "   - Survival analysis para tiempo esperado hasta rotación\n",
    "   - Random Forest o XGBoost para identificar variables más importantes\n",
    "\n",
    "2. **Análisis de Texto Avanzado**\n",
    "   - Topic modeling con LDA en español (ya existe en proyecto)\n",
    "   - Análisis de sentimientos con modelos específicos de español\n",
    "   - Named Entity Recognition para extraer factores específicos\n",
    "\n",
    "3. **Enriquecimiento de Datos**\n",
    "   - Integrar datos de desempeño individual\n",
    "   - Incorporar información de compensación detallada\n",
    "   - Añadir variables económicas y demográficas por región\n",
    "\n",
    "4. **Análisis de Cohortes**\n",
    "   - Seguimiento longitudinal de cohortes de ingreso\n",
    "   - Curvas de supervivencia por segmento\n",
    "   - Análisis de efectos de intervenciones\n",
    "\n",
    "5. **Dashboard Interactivo**\n",
    "   - Desarrollo en Tableau, Power BI o Dash\n",
    "   - Métricas en tiempo real\n",
    "   - Filtros por gerente, centro, estado, período\n",
    "\n",
    "6. **Validación Cualitativa**\n",
    "   - Focus groups con gerentes de diferentes clusters\n",
    "   - Entrevistas de salida estructuradas\n",
    "   - Validación de hallazgos cuantitativos con evidencia cualitativa\n",
    "\n",
    "---"
   ]
  },
  {
   "cell_type": "markdown",
   "metadata": {},
   "source": [
    "---\n",
    "\n",
    "# Fin del Análisis\n",
    "\n",
    "**Proyecto**: Análisis Completo de Rotación de Personal  \n",
    "**Fecha**: Generado automáticamente  \n",
    "**Herramientas**: Python 3.11, pandas, numpy, scikit-learn, textblob, matplotlib, seaborn, wordcloud\n",
    "\n",
    "**Secciones completadas:**\n",
    "1. Configuración del entorno\n",
    "2. Carga y exploración de datos\n",
    "3. Limpieza y transformación\n",
    "4. Análisis descriptivo\n",
    "5. Análisis de rotación por dimensiones (gerente, centro, estado)\n",
    "6. Análisis de sentimientos\n",
    "7. Análisis de correlaciones\n",
    "8. Clustering (K-Means)\n",
    "9. Insights y conclusiones\n",
    "\n",
    "---"
   ]
  }
 ],
 "metadata": {
  "kernelspec": {
   "display_name": "Python 3",
   "language": "python",
   "name": "python3"
  },
  "language_info": {
   "codemirror_mode": {
    "name": "ipython",
    "version": 3
   },
   "file_extension": ".py",
   "mimetype": "text/x-python",
   "name": "python",
   "nbconvert_exporter": "python",
   "pygments_lexer": "ipython3",
   "version": "3.11.14"
  }
 },
 "nbformat": 4,
 "nbformat_minor": 4
}
